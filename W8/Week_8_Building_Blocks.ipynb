{
 "cells": [
  {
   "cell_type": "markdown",
   "metadata": {},
   "source": [
    "# Week 8: Building Blocks\n",
    "\n",
    "## Matrices"
   ]
  },
  {
   "cell_type": "markdown",
   "metadata": {},
   "source": [
    "Consider the model  \n",
    "$y = Xb + e$  \n",
    "\n",
    "where \n",
    "\n",
    "$ y = \n",
    "        \\begin{pmatrix}\n",
    "        15.1 \\\\\n",
    "        07.9 \\\\\n",
    "        04.5 \\\\\n",
    "        12.8 \\\\\n",
    "        10.5 \\\\\n",
    "        \\end{pmatrix} \n",
    "\\quad X = \n",
    "        \\begin{pmatrix}\n",
    "        1 & 25.5 & 1.23 \\\\\n",
    "        1 & 40.8 & 1.89 \\\\\n",
    "        1 & 30.2 & 1.55 \\\\\n",
    "        1 & 04.3 & 1.18 \\\\\n",
    "        1 & 10.7 & 1.68 \\\\\n",
    "        \\end{pmatrix}\n",
    "$  \n",
    "\n",
    "\n",
    "and $b$ a _3 × 1_ vector, and $e$ a _5 × 1_ vector. \n",
    "\n",
    "***QUESTION 1***  \n",
    "\n",
    "Calculate the values of the vector $e$ for:\n",
    "\n",
    "**Case 1:**  \n",
    "\n",
    "$$ b = \n",
    "        \\begin{pmatrix}\n",
    "        23.0 \\\\\n",
    "        00.10 \\\\\n",
    "        −8.00 \\\\\n",
    "        \\end{pmatrix} \n",
    "$$  \n",
    "\n",
    "\n",
    "**Case 2:**  \n",
    "\n",
    "$$ b = \n",
    "        \\begin{pmatrix}\n",
    "        22.0 \\\\\n",
    "        −0.20 \\\\\n",
    "        −7.00 \\\\\n",
    "        \\end{pmatrix} \n",
    "$$"
   ]
  },
  {
   "cell_type": "code",
   "execution_count": 1,
   "metadata": {
    "collapsed": true
   },
   "outputs": [],
   "source": [
    "import numpy as np"
   ]
  },
  {
   "cell_type": "code",
   "execution_count": 2,
   "metadata": {},
   "outputs": [
    {
     "data": {
      "text/plain": [
       "array([[ 15.1],\n",
       "       [  7.9],\n",
       "       [  4.5],\n",
       "       [ 12.8],\n",
       "       [ 10.5]])"
      ]
     },
     "execution_count": 2,
     "metadata": {},
     "output_type": "execute_result"
    }
   ],
   "source": [
    "# defining the vector y\n",
    "y = np.array([\n",
    "    [15.1],\n",
    "    [7.9],\n",
    "    [4.5],\n",
    "    [12.8],\n",
    "    [10.5]\n",
    "])\n",
    "y"
   ]
  },
  {
   "cell_type": "code",
   "execution_count": 3,
   "metadata": {},
   "outputs": [
    {
     "data": {
      "text/plain": [
       "matrix([[  1.  ,  25.5 ,   1.23],\n",
       "        [  1.  ,  40.8 ,   1.89],\n",
       "        [  1.  ,  30.2 ,   1.55],\n",
       "        [  1.  ,   4.3 ,   1.18],\n",
       "        [  1.  ,  10.7 ,   1.68]])"
      ]
     },
     "execution_count": 3,
     "metadata": {},
     "output_type": "execute_result"
    }
   ],
   "source": [
    "# defining the matrix X\n",
    "X = np.matrix([\n",
    "    [1, 25.5, 1.23],\n",
    "    [1, 40.8, 1.89],\n",
    "    [1, 30.2, 1.55],\n",
    "    [1, 04.3, 1.18],\n",
    "    [1, 10.7, 1.68]\n",
    "])\n",
    "X"
   ]
  },
  {
   "cell_type": "code",
   "execution_count": 4,
   "metadata": {},
   "outputs": [
    {
     "data": {
      "text/plain": [
       "array([[ 23. ],\n",
       "       [  0.1],\n",
       "       [ -8. ]])"
      ]
     },
     "execution_count": 4,
     "metadata": {},
     "output_type": "execute_result"
    }
   ],
   "source": [
    "# b as defined in case 1\n",
    "b = np.array([\n",
    "    [23.0],\n",
    "    [0.10],\n",
    "    [-8.0]\n",
    "])\n",
    "b"
   ]
  },
  {
   "cell_type": "code",
   "execution_count": 5,
   "metadata": {},
   "outputs": [
    {
     "data": {
      "text/plain": [
       "matrix([[-0.61],\n",
       "        [-4.06],\n",
       "        [-9.12],\n",
       "        [-1.19],\n",
       "        [-0.13]])"
      ]
     },
     "execution_count": 5,
     "metadata": {},
     "output_type": "execute_result"
    }
   ],
   "source": [
    "e1 = y - (np.dot(X,b))\n",
    "e1"
   ]
  },
  {
   "cell_type": "code",
   "execution_count": 6,
   "metadata": {},
   "outputs": [
    {
     "data": {
      "text/plain": [
       "array([[ 22. ],\n",
       "       [ -0.2],\n",
       "       [ -7. ]])"
      ]
     },
     "execution_count": 6,
     "metadata": {},
     "output_type": "execute_result"
    }
   ],
   "source": [
    "# b as defined in case 2\n",
    "b = np.array([\n",
    "    [22.0],\n",
    "    [-0.20],\n",
    "    [-7.0]\n",
    "])\n",
    "b"
   ]
  },
  {
   "cell_type": "code",
   "execution_count": 7,
   "metadata": {},
   "outputs": [
    {
     "data": {
      "text/plain": [
       "matrix([[ 6.81],\n",
       "        [ 7.29],\n",
       "        [-0.61],\n",
       "        [-0.08],\n",
       "        [ 2.4 ]])"
      ]
     },
     "execution_count": 7,
     "metadata": {},
     "output_type": "execute_result"
    }
   ],
   "source": [
    "e2 = y - (np.dot(X,b))\n",
    "e2"
   ]
  },
  {
   "cell_type": "markdown",
   "metadata": {},
   "source": [
    "***QUESTION 2***\n",
    "\n",
    "The vector $e$ contains the unexplained part of the model. We like the unexplained part to be small, with which we mean that each element of the vector $e$ is close to zero. You can measure the distance of an element to zero by its absolute value, or by its square. Which of the two candidates for the vector $b$ gives the smallest unexplained part for the two distance measures?"
   ]
  },
  {
   "cell_type": "code",
   "execution_count": 8,
   "metadata": {},
   "outputs": [
    {
     "name": "stdout",
     "output_type": "stream",
     "text": [
      "Absolute Error on b from Case 1 15.11\n",
      "Absolute Error on b from Case 2 17.19\n"
     ]
    }
   ],
   "source": [
    "# sum of absolute elements\n",
    "print(\"Absolute Error on b from Case 1\", np.absolute(e1).sum())\n",
    "print(\"Absolute Error on b from Case 2\", np.absolute(e2).sum())"
   ]
  },
  {
   "cell_type": "code",
   "execution_count": 9,
   "metadata": {},
   "outputs": [
    {
     "name": "stdout",
     "output_type": "stream",
     "text": [
      "Square Error on b from Case 1 101.4631\n",
      "Square Error on b from Case 2 105.6587\n"
     ]
    }
   ],
   "source": [
    "# sum of square of elements\n",
    "print(\"Square Error on b from Case 1\", np.square(e1).sum())\n",
    "print(\"Square Error on b from Case 2\", np.square(e2).sum())"
   ]
  },
  {
   "cell_type": "markdown",
   "metadata": {},
   "source": [
    "***QUESTION 3***\n",
    "\n",
    "Let $A$ be a $(p × q)$ matrix, $u$ a $(1 × p)$ vector, and $v$ a $(q × 1)$ vector. What dimensions does $d = u·A·v$ have? \n",
    "\n",
    "Write the result in sigma notation (i.e., with P)."
   ]
  },
  {
   "cell_type": "markdown",
   "metadata": {},
   "source": [
    "$$(1 × p)\\quad X\\quad(p × q)\\quad X\\quad(q × 1)$$\n",
    "=\n",
    "$$(1 × q)\\quad X\\quad(q × 1)$$\n",
    "= $$(1 × 1)$$\n"
   ]
  },
  {
   "cell_type": "code",
   "execution_count": null,
   "metadata": {
    "collapsed": true
   },
   "outputs": [],
   "source": []
  },
  {
   "cell_type": "markdown",
   "metadata": {},
   "source": [
    "***QUESTION 3***\n",
    "\n",
    "Find a simplified expression without parentheses for $(A+I)^2$ , with $A$ a $(p × p)$ matrix, and $I$ the $(p × p)$ identity matrix."
   ]
  },
  {
   "cell_type": "code",
   "execution_count": null,
   "metadata": {
    "collapsed": true
   },
   "outputs": [],
   "source": []
  }
 ],
 "metadata": {
  "kernelspec": {
   "display_name": "Python 3",
   "language": "python",
   "name": "python3"
  },
  "language_info": {
   "codemirror_mode": {
    "name": "ipython",
    "version": 3
   },
   "file_extension": ".py",
   "mimetype": "text/x-python",
   "name": "python",
   "nbconvert_exporter": "python",
   "pygments_lexer": "ipython3",
   "version": "3.6.2"
  }
 },
 "nbformat": 4,
 "nbformat_minor": 2
}
