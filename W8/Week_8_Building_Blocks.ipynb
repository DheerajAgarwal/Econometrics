{
 "cells": [
  {
   "cell_type": "markdown",
   "metadata": {},
   "source": [
    "# Week 8: Building Blocks\n",
    "\n",
    "## Matrices\n",
    "\n",
    "### Exercise 1"
   ]
  },
  {
   "cell_type": "markdown",
   "metadata": {},
   "source": [
    "Consider the model  \n",
    "$y = Xb + e$  \n",
    "\n",
    "where \n",
    "\n",
    "$ y = \n",
    "        \\begin{pmatrix}\n",
    "        15.1 \\\\\n",
    "        07.9 \\\\\n",
    "        04.5 \\\\\n",
    "        12.8 \\\\\n",
    "        10.5 \\\\\n",
    "        \\end{pmatrix} \n",
    "\\quad X = \n",
    "        \\begin{pmatrix}\n",
    "        1 & 25.5 & 1.23 \\\\\n",
    "        1 & 40.8 & 1.89 \\\\\n",
    "        1 & 30.2 & 1.55 \\\\\n",
    "        1 & 04.3 & 1.18 \\\\\n",
    "        1 & 10.7 & 1.68 \\\\\n",
    "        \\end{pmatrix}\n",
    "$  \n",
    "\n",
    "\n",
    "and $b$ a _3 × 1_ vector, and $e$ a _5 × 1_ vector. \n",
    "\n",
    "***QUESTION 1***  \n",
    "\n",
    "Calculate the values of the vector $e$ for:\n",
    "\n",
    "**Case 1:**  \n",
    "\n",
    "$$ b = \n",
    "        \\begin{pmatrix}\n",
    "        23.0 \\\\\n",
    "        00.10 \\\\\n",
    "        -8.00 \\\\\n",
    "        \\end{pmatrix} \n",
    "$$  \n",
    "\n",
    "\n",
    "**Case 2:**  \n",
    "\n",
    "$$ b = \n",
    "        \\begin{pmatrix}\n",
    "        22.0 \\\\\n",
    "        -0.20 \\\\\n",
    "        -7.00 \\\\\n",
    "        \\end{pmatrix} \n",
    "$$"
   ]
  },
  {
   "cell_type": "code",
   "execution_count": 1,
   "metadata": {
    "collapsed": true
   },
   "outputs": [],
   "source": [
    "import numpy as np"
   ]
  },
  {
   "cell_type": "code",
   "execution_count": 2,
   "metadata": {},
   "outputs": [
    {
     "data": {
      "text/plain": [
       "array([[ 15.1],\n",
       "       [  7.9],\n",
       "       [  4.5],\n",
       "       [ 12.8],\n",
       "       [ 10.5]])"
      ]
     },
     "execution_count": 2,
     "metadata": {},
     "output_type": "execute_result"
    }
   ],
   "source": [
    "# defining the vector y\n",
    "y = np.array([\n",
    "    [15.1],\n",
    "    [7.9],\n",
    "    [4.5],\n",
    "    [12.8],\n",
    "    [10.5]\n",
    "])\n",
    "y"
   ]
  },
  {
   "cell_type": "code",
   "execution_count": 3,
   "metadata": {},
   "outputs": [
    {
     "data": {
      "text/plain": [
       "matrix([[  1.  ,  25.5 ,   1.23],\n",
       "        [  1.  ,  40.8 ,   1.89],\n",
       "        [  1.  ,  30.2 ,   1.55],\n",
       "        [  1.  ,   4.3 ,   1.18],\n",
       "        [  1.  ,  10.7 ,   1.68]])"
      ]
     },
     "execution_count": 3,
     "metadata": {},
     "output_type": "execute_result"
    }
   ],
   "source": [
    "# defining the matrix X\n",
    "X = np.matrix([\n",
    "    [1, 25.5, 1.23],\n",
    "    [1, 40.8, 1.89],\n",
    "    [1, 30.2, 1.55],\n",
    "    [1, 04.3, 1.18],\n",
    "    [1, 10.7, 1.68]\n",
    "])\n",
    "X"
   ]
  },
  {
   "cell_type": "code",
   "execution_count": 4,
   "metadata": {},
   "outputs": [
    {
     "data": {
      "text/plain": [
       "array([[ 23. ],\n",
       "       [  0.1],\n",
       "       [ -8. ]])"
      ]
     },
     "execution_count": 4,
     "metadata": {},
     "output_type": "execute_result"
    }
   ],
   "source": [
    "# b as defined in case 1\n",
    "b = np.array([\n",
    "    [23.0],\n",
    "    [0.10],\n",
    "    [-8.0]\n",
    "])\n",
    "b"
   ]
  },
  {
   "cell_type": "code",
   "execution_count": 5,
   "metadata": {},
   "outputs": [
    {
     "data": {
      "text/plain": [
       "matrix([[-0.61],\n",
       "        [-4.06],\n",
       "        [-9.12],\n",
       "        [-1.19],\n",
       "        [-0.13]])"
      ]
     },
     "execution_count": 5,
     "metadata": {},
     "output_type": "execute_result"
    }
   ],
   "source": [
    "e1 = y - (np.dot(X,b))\n",
    "e1"
   ]
  },
  {
   "cell_type": "code",
   "execution_count": 6,
   "metadata": {},
   "outputs": [
    {
     "data": {
      "text/plain": [
       "array([[ 22. ],\n",
       "       [ -0.2],\n",
       "       [ -7. ]])"
      ]
     },
     "execution_count": 6,
     "metadata": {},
     "output_type": "execute_result"
    }
   ],
   "source": [
    "# b as defined in case 2\n",
    "b = np.array([\n",
    "    [22.0],\n",
    "    [-0.20],\n",
    "    [-7.0]\n",
    "])\n",
    "b"
   ]
  },
  {
   "cell_type": "code",
   "execution_count": 7,
   "metadata": {},
   "outputs": [
    {
     "data": {
      "text/plain": [
       "matrix([[ 6.81],\n",
       "        [ 7.29],\n",
       "        [-0.61],\n",
       "        [-0.08],\n",
       "        [ 2.4 ]])"
      ]
     },
     "execution_count": 7,
     "metadata": {},
     "output_type": "execute_result"
    }
   ],
   "source": [
    "e2 = y - (np.dot(X,b))\n",
    "e2"
   ]
  },
  {
   "cell_type": "markdown",
   "metadata": {},
   "source": [
    "***QUESTION 2***\n",
    "\n",
    "The vector $e$ contains the unexplained part of the model. We like the unexplained part to be small, with which we mean that each element of the vector $e$ is close to zero. You can measure the distance of an element to zero by its absolute value, or by its square. Which of the two candidates for the vector $b$ gives the smallest unexplained part for the two distance measures?"
   ]
  },
  {
   "cell_type": "code",
   "execution_count": 8,
   "metadata": {},
   "outputs": [
    {
     "name": "stdout",
     "output_type": "stream",
     "text": [
      "Absolute Error on b from Case 1 15.11\n",
      "Absolute Error on b from Case 2 17.19\n"
     ]
    }
   ],
   "source": [
    "# sum of absolute elements\n",
    "print(\"Absolute Error on b from Case 1\", np.absolute(e1).sum())\n",
    "print(\"Absolute Error on b from Case 2\", np.absolute(e2).sum())"
   ]
  },
  {
   "cell_type": "code",
   "execution_count": 9,
   "metadata": {},
   "outputs": [
    {
     "name": "stdout",
     "output_type": "stream",
     "text": [
      "Square Error on b from Case 1 101.4631\n",
      "Square Error on b from Case 2 105.6587\n"
     ]
    }
   ],
   "source": [
    "# sum of square of elements\n",
    "print(\"Square Error on b from Case 1\", np.square(e1).sum())\n",
    "print(\"Square Error on b from Case 2\", np.square(e2).sum())"
   ]
  },
  {
   "cell_type": "markdown",
   "metadata": {},
   "source": [
    "***QUESTION 3***\n",
    "\n",
    "Let $A$ be a $(p X q)$ matrix, $u$ a $(1 X p)$ vector, and $v$ a $(q X 1)$ vector. What dimensions does $d = u·A·v$ have? \n",
    "\n",
    "Write the result in sigma notation (i.e., with P)."
   ]
  },
  {
   "cell_type": "markdown",
   "metadata": {},
   "source": [
    "***ANSWER 3***\n",
    "\n",
    "$$(1 X p)\\quad X\\quad(p X q)\\quad X\\quad(q X 1)$$\n",
    "=\n",
    "$$(1 X q)\\quad X\\quad(q X 1)$$\n",
    "= $$(1 X 1)$$\n"
   ]
  },
  {
   "cell_type": "markdown",
   "metadata": {
    "collapsed": true
   },
   "source": [
    "Matrix multiplication of $u$ and $A$ can be written as $\\sum_{i=1}^{p}\\sum_{j=1}^{q}{u_i.A_{ij}.v_j}$ "
   ]
  },
  {
   "cell_type": "markdown",
   "metadata": {},
   "source": [
    "***QUESTION 4***\n",
    "\n",
    "Find a simplified expression without parentheses for $(A+I)^2$ , with $A$ a $(p X p)$ matrix, and $I$ the $(p X p)$ identity matrix."
   ]
  },
  {
   "cell_type": "markdown",
   "metadata": {
    "collapsed": true
   },
   "source": [
    "***ANSWER 4***  \n",
    "\n",
    "The expansion of the term $(A+I)^2$ is $A^2 + AI + IA + I^2$\n",
    "\n",
    "Since $I$ is an identity matrix, $A.I = I.A = A$  \n",
    "\n",
    "So the overall expression can be written as $A^2 + 2A + I$"
   ]
  },
  {
   "cell_type": "markdown",
   "metadata": {},
   "source": [
    "### Exercise 2"
   ]
  },
  {
   "cell_type": "markdown",
   "metadata": {},
   "source": [
    "***QUESTION 1***\n",
    "\n",
    "Let $a$ and $b$ be two $(p x 1)$ vectors. Multiply out the parentheses and simplify ${(a + b)}^\\intercal.(a + b)$."
   ]
  },
  {
   "cell_type": "markdown",
   "metadata": {},
   "source": [
    "***ANSWER***  \n",
    "\n",
    "$ = a.a^\\intercal + a^\\intercal.b + b^\\intercal.a + b.b^\\intercal$  \n",
    "$ = a.a^\\intercal + 2a^\\intercal.b + b.b^\\intercal$\n",
    "\n",
    "hence $b^\\intercal.a  = a^\\intercal.b$ where $b^\\intercal.a$ is scalar"
   ]
  },
  {
   "cell_type": "code",
   "execution_count": 30,
   "metadata": {},
   "outputs": [],
   "source": [
    "# Example:\n",
    "\n",
    "a = np.array([[1], [2], [3]])\n",
    "b = np.array([[4], [5], [6]])\n",
    "\n",
    "a_transpose = a.transpose()\n",
    "b_transpose = b.transpose()"
   ]
  },
  {
   "cell_type": "code",
   "execution_count": 32,
   "metadata": {},
   "outputs": [
    {
     "name": "stdout",
     "output_type": "stream",
     "text": [
      "[[32]]\n",
      "[[32]]\n"
     ]
    }
   ],
   "source": [
    "print(np.dot(a_transpose, b))\n",
    "print(np.dot(b_transpose, a))"
   ]
  },
  {
   "cell_type": "markdown",
   "metadata": {},
   "source": [
    "***QUESTION 2***   \n",
    "\n",
    "Let $a$ be a $(p x 1)$ vector. Use the definition of trace to show that the inner product $a^\\intercal.a$ is equal to the trace\n",
    "of the outer product $a.a^\\intercal$."
   ]
  },
  {
   "cell_type": "code",
   "execution_count": 41,
   "metadata": {},
   "outputs": [
    {
     "name": "stdout",
     "output_type": "stream",
     "text": [
      "[[14]]\n",
      "[[1 2 3]\n",
      " [2 4 6]\n",
      " [3 6 9]]\n"
     ]
    }
   ],
   "source": [
    "# ANSWER & Example:\n",
    "\n",
    "print(np.dot(a_transpose, a))\n",
    "print(np.dot(a, a_transpose))\n",
    "\n",
    "# We can see that the results are very different at this stage. "
   ]
  },
  {
   "cell_type": "code",
   "execution_count": 40,
   "metadata": {},
   "outputs": [
    {
     "name": "stdout",
     "output_type": "stream",
     "text": [
      "14\n",
      "14\n"
     ]
    }
   ],
   "source": [
    "# Calculating trace (sum of diagonal value)\n",
    "\n",
    "print(np.dot(a_transpose, a).trace())\n",
    "print(np.dot(a, a_transpose).trace())"
   ]
  },
  {
   "cell_type": "markdown",
   "metadata": {},
   "source": [
    "***QUESTION 3***\n",
    "\n",
    "Let $A$ be a square $(p x p)$ matrix and $c$ a scalar. Show that $tr(c.A) = c.tr(A)$."
   ]
  },
  {
   "cell_type": "code",
   "execution_count": 44,
   "metadata": {},
   "outputs": [
    {
     "name": "stdout",
     "output_type": "stream",
     "text": [
      "[[25]]\n",
      "[[25]]\n"
     ]
    }
   ],
   "source": [
    "A = np.matrix([\n",
    "    [1,2],\n",
    "    [3,4]\n",
    "]\n",
    ")\n",
    "\n",
    "c = 5\n",
    "\n",
    "print(np.dot(c, A).trace())\n",
    "print(c*A.trace())"
   ]
  },
  {
   "cell_type": "markdown",
   "metadata": {},
   "source": [
    "***QUESTION 4***  \n",
    "\n",
    "Let $A$ be a square invertible $(p x p)$ matrix and $c \\ne 0$ a scalar. Find the inverse of $(c.A)$."
   ]
  },
  {
   "cell_type": "code",
   "execution_count": 51,
   "metadata": {},
   "outputs": [
    {
     "name": "stdout",
     "output_type": "stream",
     "text": [
      "[[ 0.02439024  0.0097561 ]\n",
      " [-0.01463415  0.03414634]]\n",
      "[[ 0.6097561   0.24390244]\n",
      " [-0.36585366  0.85365854]]\n"
     ]
    }
   ],
   "source": [
    "A = np.matrix([\n",
    "    [7, -2],\n",
    "    [3, 5]\n",
    "]\n",
    ")\n",
    "\n",
    "c = 5\n",
    "\n",
    "c_A = np.dot(c, A)\n",
    "\n",
    "print(np.linalg.inv(c_A)) # inverse of the multuplicative matrix\n",
    "\n",
    "print(c*np.linalg.inv(A)) # inverse of the matrix multiplied by the scalar\n",
    "\n",
    "# we can clearly see the difference between the two approaches."
   ]
  },
  {
   "cell_type": "markdown",
   "metadata": {},
   "source": [
    "***QUESTION 5***    \n",
    "\n",
    "Let $A$ be a square $(2 ×2)$ matrix given by \n",
    "\n",
    "$\n",
    "\\quad A =\n",
    "        \\begin{pmatrix}\n",
    "        a & b \\\\\n",
    "        c & d \\\\\n",
    "        \\end{pmatrix}\n",
    "$ \n",
    "\n",
    "Find the value for $f$ such that $B(f ) = \\frac{1}{f}\\begin{pmatrix} d & -b\\\\ -c & a\\\\ \\end{pmatrix}$\n",
    "gives the inverse of $A$. What condition should the matrix elements satisfy for the inverse to exist?"
   ]
  },
  {
   "cell_type": "code",
   "execution_count": null,
   "metadata": {
    "collapsed": true
   },
   "outputs": [],
   "source": []
  },
  {
   "cell_type": "markdown",
   "metadata": {
    "collapsed": true
   },
   "source": [
    "***QUESTION 6***   \n",
    "\n",
    "Simplify the expression $(i^\\intercal.i)$ and ${(i.i^\\intercal)}^2$, where $i$ is the $(p × 1)$ unit vector."
   ]
  },
  {
   "cell_type": "code",
   "execution_count": null,
   "metadata": {
    "collapsed": true
   },
   "outputs": [],
   "source": []
  }
 ],
 "metadata": {
  "kernelspec": {
   "display_name": "Python 3",
   "language": "python",
   "name": "python3"
  },
  "language_info": {
   "codemirror_mode": {
    "name": "ipython",
    "version": 3
   },
   "file_extension": ".py",
   "mimetype": "text/x-python",
   "name": "python",
   "nbconvert_exporter": "python",
   "pygments_lexer": "ipython3",
   "version": "3.6.2"
  }
 },
 "nbformat": 4,
 "nbformat_minor": 2
}
