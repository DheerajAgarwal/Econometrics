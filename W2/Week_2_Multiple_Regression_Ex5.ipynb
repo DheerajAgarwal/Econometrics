{
 "cells": [
  {
   "cell_type": "markdown",
   "metadata": {
    "toc": "true"
   },
   "source": [
    "# Table of Contents\n",
    " <p><div class=\"lev1 toc-item\"><a href=\"#Week-2:-Multiple-Regression\" data-toc-modified-id=\"Week-2:-Multiple-Regression-1\"><span class=\"toc-item-num\">1&nbsp;&nbsp;</span>Week 2: Multiple Regression</a></div><div class=\"lev2 toc-item\"><a href=\"#Training-Exercise-2.5\" data-toc-modified-id=\"Training-Exercise-2.5-11\"><span class=\"toc-item-num\">1.1&nbsp;&nbsp;</span>Training Exercise 2.5</a></div><div class=\"lev3 toc-item\"><a href=\"#Questions:\" data-toc-modified-id=\"Questions:-111\"><span class=\"toc-item-num\">1.1.1&nbsp;&nbsp;</span>Questions:</a></div><div class=\"lev3 toc-item\"><a href=\"#Solution:\" data-toc-modified-id=\"Solution:-112\"><span class=\"toc-item-num\">1.1.2&nbsp;&nbsp;</span>Solution:</a></div><div class=\"lev4 toc-item\"><a href=\"#Get-Data\" data-toc-modified-id=\"Get-Data-1121\"><span class=\"toc-item-num\">1.1.2.1&nbsp;&nbsp;</span>Get Data</a></div><div class=\"lev4 toc-item\"><a href=\"#Part-A-Solution\" data-toc-modified-id=\"Part-A-Solution-1122\"><span class=\"toc-item-num\">1.1.2.2&nbsp;&nbsp;</span>Part A Solution</a></div><div class=\"lev5 toc-item\"><a href=\"#Part-A-Code\" data-toc-modified-id=\"Part-A-Code-11221\"><span class=\"toc-item-num\">1.1.2.2.1&nbsp;&nbsp;</span>Part A Code</a></div><div class=\"lev5 toc-item\"><a href=\"#Answer-Part-A\" data-toc-modified-id=\"Answer-Part-A-11222\"><span class=\"toc-item-num\">1.1.2.2.2&nbsp;&nbsp;</span>Answer Part A</a></div><div class=\"lev4 toc-item\"><a href=\"#Part-B-Solution\" data-toc-modified-id=\"Part-B-Solution-1123\"><span class=\"toc-item-num\">1.1.2.3&nbsp;&nbsp;</span>Part B Solution</a></div><div class=\"lev5 toc-item\"><a href=\"#Part-B-Code\" data-toc-modified-id=\"Part-B-Code-11231\"><span class=\"toc-item-num\">1.1.2.3.1&nbsp;&nbsp;</span>Part B Code</a></div><div class=\"lev5 toc-item\"><a href=\"#Answer-Part-B-(i)-and-(ii)\" data-toc-modified-id=\"Answer-Part-B-(i)-and-(ii)-11232\"><span class=\"toc-item-num\">1.1.2.3.2&nbsp;&nbsp;</span>Answer Part B (i) and (ii)</a></div>"
   ]
  },
  {
   "cell_type": "markdown",
   "metadata": {},
   "source": [
    "# Week 2: Multiple Regression\n",
    "\n",
    "## Training Exercise 2.5\n",
    "\n",
    "### Questions:\n",
    "\n",
    "\n",
    "Let $e_i$ be the residuals of the model at the beginning of Lecture 2.5, where log-wage was regressed on a constant and the variables `Female`, `Age`, `Educ`, and `Parttime`. If these residuals are regressed on a constant and the three education dummies, then the result with coefficients rounded to two decimals is:\n",
    "\n",
    "$$e_i = 0.03 − 0.06DE2_i − 0.09DE3_i + 0.06DE4_i + res_i$$\n",
    "\n",
    "with $R^2 = 0.04$. \n",
    "\n",
    "Here $res_i$ denote the residuals of this regression, which have the property that the sample mean is zero for each of the four education levels.\n",
    "\n",
    "    (a) Give an intuitive interpretation of the four regression coefficients.\n",
    "    (b) Test if the three dummy coefficients are jointly significant, by means of the F-test\n",
    "$$F =\n",
    "\\frac{\\frac{{R_1}^2 − {R_0}^2}{g}}\n",
    "{\\frac{1 − {R_1}^2}{n-k}}\n",
    "$$\n",
    "\n",
    "\n",
    "_Hint:_  \n",
    "First prove that ${R_0}^2 = 0$ under $H_0: β2 = β3 = β4 = 0$. Note: The relevant 5% critical value is 2.6.\n",
    "\n",
    "    (c) Give an economic interpretation of the result in part (b).\n",
    "    (d) Above, it was stated that the residuals $res_i$ have sample mean zero for each of the four education levels. Can\n",
    "    you prove this result?\n",
    "\n",
    "_Hint:_  \n",
    "\n",
    "Use that ${X^I}e = 0$ for OLS in $y = Xb + e$. Which $y$ and $X$ are relevant here?\n",
    "\n",
    "**TrainExer25 Data**  \n",
    "\n",
    "Simulated wage data set of 500 employees (fixed country, labor sector, and year).\n",
    "\n",
    "    • Age: age in years (scale variable, 20-70)\n",
    "    • Educ: education level (catergorical variable, values 1, 2, 3, 4)\n",
    "    • DE2: Dummy variable for education level 2 (value 1 for level 2, value 0 otherwise)\n",
    "    • DE3: Dummy variable for education level 3 (value 1 for level 3, value 0 otherwise)\n",
    "    • DE4: Dummy variable for education level 4 (value 1 for level 4, value 0 otherwise)\n",
    "    • Female: gender (dummy variable, 1 for females, 0 for males)\n",
    "    • Parttime: parttime job (dummy variable, 1 if job for at most 3 days per week, 0 if job for more than 3 days per week)\n",
    "    • Wageindex: yearly wage (scale variable, indexed such that median is equal to 100)\n",
    "    • Logwageindex: natural logarithm of Wageindex"
   ]
  },
  {
   "cell_type": "markdown",
   "metadata": {},
   "source": [
    "### Solution:\n",
    "\n",
    "#### Get Data"
   ]
  },
  {
   "cell_type": "code",
   "execution_count": 1,
   "metadata": {
    "collapsed": true
   },
   "outputs": [],
   "source": [
    "import pandas as pd"
   ]
  },
  {
   "cell_type": "code",
   "execution_count": 2,
   "metadata": {},
   "outputs": [
    {
     "data": {
      "text/html": [
       "<div>\n",
       "<style>\n",
       "    .dataframe thead tr:only-child th {\n",
       "        text-align: right;\n",
       "    }\n",
       "\n",
       "    .dataframe thead th {\n",
       "        text-align: left;\n",
       "    }\n",
       "\n",
       "    .dataframe tbody tr th {\n",
       "        vertical-align: top;\n",
       "    }\n",
       "</style>\n",
       "<table border=\"1\" class=\"dataframe\">\n",
       "  <thead>\n",
       "    <tr style=\"text-align: right;\">\n",
       "      <th></th>\n",
       "      <th>Observation</th>\n",
       "      <th>Wage</th>\n",
       "      <th>LogWage</th>\n",
       "      <th>Age</th>\n",
       "      <th>Female</th>\n",
       "      <th>Educ</th>\n",
       "      <th>DE2</th>\n",
       "      <th>DE3</th>\n",
       "      <th>DE4</th>\n",
       "      <th>Parttime</th>\n",
       "    </tr>\n",
       "  </thead>\n",
       "  <tbody>\n",
       "    <tr>\n",
       "      <th>0</th>\n",
       "      <td>1</td>\n",
       "      <td>66</td>\n",
       "      <td>4.189655</td>\n",
       "      <td>49</td>\n",
       "      <td>0</td>\n",
       "      <td>1</td>\n",
       "      <td>0</td>\n",
       "      <td>0</td>\n",
       "      <td>0</td>\n",
       "      <td>1</td>\n",
       "    </tr>\n",
       "    <tr>\n",
       "      <th>1</th>\n",
       "      <td>2</td>\n",
       "      <td>34</td>\n",
       "      <td>3.526361</td>\n",
       "      <td>42</td>\n",
       "      <td>1</td>\n",
       "      <td>1</td>\n",
       "      <td>0</td>\n",
       "      <td>0</td>\n",
       "      <td>0</td>\n",
       "      <td>1</td>\n",
       "    </tr>\n",
       "    <tr>\n",
       "      <th>2</th>\n",
       "      <td>3</td>\n",
       "      <td>70</td>\n",
       "      <td>4.248495</td>\n",
       "      <td>42</td>\n",
       "      <td>1</td>\n",
       "      <td>1</td>\n",
       "      <td>0</td>\n",
       "      <td>0</td>\n",
       "      <td>0</td>\n",
       "      <td>1</td>\n",
       "    </tr>\n",
       "    <tr>\n",
       "      <th>3</th>\n",
       "      <td>4</td>\n",
       "      <td>47</td>\n",
       "      <td>3.850148</td>\n",
       "      <td>38</td>\n",
       "      <td>0</td>\n",
       "      <td>1</td>\n",
       "      <td>0</td>\n",
       "      <td>0</td>\n",
       "      <td>0</td>\n",
       "      <td>0</td>\n",
       "    </tr>\n",
       "    <tr>\n",
       "      <th>4</th>\n",
       "      <td>5</td>\n",
       "      <td>107</td>\n",
       "      <td>4.672829</td>\n",
       "      <td>54</td>\n",
       "      <td>1</td>\n",
       "      <td>1</td>\n",
       "      <td>0</td>\n",
       "      <td>0</td>\n",
       "      <td>0</td>\n",
       "      <td>1</td>\n",
       "    </tr>\n",
       "  </tbody>\n",
       "</table>\n",
       "</div>"
      ],
      "text/plain": [
       "   Observation  Wage   LogWage  Age  Female  Educ  DE2  DE3  DE4  Parttime\n",
       "0            1    66  4.189655   49       0     1    0    0    0         1\n",
       "1            2    34  3.526361   42       1     1    0    0    0         1\n",
       "2            3    70  4.248495   42       1     1    0    0    0         1\n",
       "3            4    47  3.850148   38       0     1    0    0    0         0\n",
       "4            5   107  4.672829   54       1     1    0    0    0         1"
      ]
     },
     "execution_count": 2,
     "metadata": {},
     "output_type": "execute_result"
    }
   ],
   "source": [
    "file_location=\"./data/TrainExer25.xls\"\n",
    "\n",
    "TrainExer25 = pd.read_excel(file_location)\n",
    "TrainExer25.head()"
   ]
  },
  {
   "cell_type": "markdown",
   "metadata": {},
   "source": [
    "#### Part A Solution\n",
    "##### Part A Code "
   ]
  },
  {
   "cell_type": "markdown",
   "metadata": {},
   "source": [
    "##### Answer Part A"
   ]
  },
  {
   "cell_type": "markdown",
   "metadata": {},
   "source": [
    "#### Part B Solution\n",
    "##### Part B Code "
   ]
  },
  {
   "cell_type": "markdown",
   "metadata": {},
   "source": [
    "##### Answer Part B (i) and (ii)"
   ]
  }
 ],
 "metadata": {
  "kernelspec": {
   "display_name": "Python 3",
   "language": "python",
   "name": "python3"
  },
  "language_info": {
   "codemirror_mode": {
    "name": "ipython",
    "version": 3
   },
   "file_extension": ".py",
   "mimetype": "text/x-python",
   "name": "python",
   "nbconvert_exporter": "python",
   "pygments_lexer": "ipython3",
   "version": "3.6.2"
  },
  "toc": {
   "colors": {
    "hover_highlight": "#DAA520",
    "navigate_num": "#000000",
    "navigate_text": "#333333",
    "running_highlight": "#FF0000",
    "selected_highlight": "#FFD700",
    "sidebar_border": "#EEEEEE",
    "wrapper_background": "#FFFFFF"
   },
   "moveMenuLeft": true,
   "nav_menu": {
    "height": "227px",
    "width": "252px"
   },
   "navigate_menu": true,
   "number_sections": true,
   "sideBar": true,
   "threshold": "6",
   "toc_cell": true,
   "toc_section_display": "block",
   "toc_window_display": false,
   "widenNotebook": false
  }
 },
 "nbformat": 4,
 "nbformat_minor": 2
}
