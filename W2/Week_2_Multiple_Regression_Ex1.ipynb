{
 "cells": [
  {
   "cell_type": "markdown",
   "metadata": {
    "toc": "true"
   },
   "source": [
    "# Table of Contents\n",
    " <p><div class=\"lev1 toc-item\"><a href=\"#Week-2:-Multiple-Regression\" data-toc-modified-id=\"Week-2:-Multiple-Regression-1\"><span class=\"toc-item-num\">1&nbsp;&nbsp;</span>Week 2: Multiple Regression</a></div><div class=\"lev2 toc-item\"><a href=\"#Training-Exercise-2.1\" data-toc-modified-id=\"Training-Exercise-2.1-11\"><span class=\"toc-item-num\">1.1&nbsp;&nbsp;</span>Training Exercise 2.1</a></div><div class=\"lev3 toc-item\"><a href=\"#Questions:\" data-toc-modified-id=\"Questions:-111\"><span class=\"toc-item-num\">1.1.1&nbsp;&nbsp;</span>Questions:</a></div><div class=\"lev3 toc-item\"><a href=\"#Solution:\" data-toc-modified-id=\"Solution:-112\"><span class=\"toc-item-num\">1.1.2&nbsp;&nbsp;</span>Solution:</a></div><div class=\"lev4 toc-item\"><a href=\"#Get-Data\" data-toc-modified-id=\"Get-Data-1121\"><span class=\"toc-item-num\">1.1.2.1&nbsp;&nbsp;</span>Get Data</a></div><div class=\"lev4 toc-item\"><a href=\"#Part-A-Solution\" data-toc-modified-id=\"Part-A-Solution-1122\"><span class=\"toc-item-num\">1.1.2.2&nbsp;&nbsp;</span>Part A Solution</a></div><div class=\"lev5 toc-item\"><a href=\"#Part-A-Code\" data-toc-modified-id=\"Part-A-Code-11221\"><span class=\"toc-item-num\">1.1.2.2.1&nbsp;&nbsp;</span>Part A Code</a></div><div class=\"lev5 toc-item\"><a href=\"#Answer-Part-A\" data-toc-modified-id=\"Answer-Part-A-11222\"><span class=\"toc-item-num\">1.1.2.2.2&nbsp;&nbsp;</span>Answer Part A</a></div><div class=\"lev4 toc-item\"><a href=\"#Part-B-Solution\" data-toc-modified-id=\"Part-B-Solution-1123\"><span class=\"toc-item-num\">1.1.2.3&nbsp;&nbsp;</span>Part B Solution</a></div><div class=\"lev5 toc-item\"><a href=\"#Part-B-Code\" data-toc-modified-id=\"Part-B-Code-11231\"><span class=\"toc-item-num\">1.1.2.3.1&nbsp;&nbsp;</span>Part B Code</a></div><div class=\"lev5 toc-item\"><a href=\"#Answer-Part-B-(i)-and-(ii)\" data-toc-modified-id=\"Answer-Part-B-(i)-and-(ii)-11232\"><span class=\"toc-item-num\">1.1.2.3.2&nbsp;&nbsp;</span>Answer Part B (i) and (ii)</a></div>"
   ]
  },
  {
   "cell_type": "markdown",
   "metadata": {},
   "source": [
    "# Week 2: Multiple Regression\n",
    "\n",
    "## Training Exercise 2.1\n",
    "\n",
    "### Questions:\n",
    "\n",
    "\n",
    "a. Regress log-wage on a constant and the gender dummy ‘Female’, and check the result presented in Lecture 2.1 that:  \n",
    "\n",
    "$$log(Wage) = 4.73 − 0.25Female + e$$.  \n",
    "b. Let $e$ be the series of residuals of the regression in part (a). Perform two regressions: \n",
    "\n",
    "    (i) e on a constant and education;  \n",
    "    (ii) e on a constant and the part-time job dummy.  \n",
    "    \n",
    "c. Comment on the outcomes of regressions (i) and (ii) of part (b).\n",
    "\n",
    "**TrainExer21 Data**  \n",
    "\n",
    "Simulated wage data set of 500 employees (fixed country, labor sector, and year).  \n",
    "    \n",
    "    • Age: age in years (scale variable, 20-70)\n",
    "    • Educ: education level (catergorical variable, values 1, 2, 3, 4)\n",
    "    • Female: gender (dummy variable, 1 for females, 0 for males)\n",
    "    • Parttime: parttime job (dummy variable, 1 if job for at most 3 days per week, 0 if job for more than 3 days per week)\n",
    "    • Wageindex: yearly wage (scale variable, indexed such that median is equal to 100)\n",
    "    • Logwageindex: natural logarithm of Wageindex"
   ]
  },
  {
   "cell_type": "markdown",
   "metadata": {},
   "source": [
    "### Solution:\n",
    "\n",
    "#### Get Data"
   ]
  },
  {
   "cell_type": "code",
   "execution_count": 1,
   "metadata": {
    "collapsed": true
   },
   "outputs": [],
   "source": [
    "import pandas as pd"
   ]
  },
  {
   "cell_type": "code",
   "execution_count": 2,
   "metadata": {},
   "outputs": [
    {
     "data": {
      "text/html": [
       "<div>\n",
       "<style>\n",
       "    .dataframe thead tr:only-child th {\n",
       "        text-align: right;\n",
       "    }\n",
       "\n",
       "    .dataframe thead th {\n",
       "        text-align: left;\n",
       "    }\n",
       "\n",
       "    .dataframe tbody tr th {\n",
       "        vertical-align: top;\n",
       "    }\n",
       "</style>\n",
       "<table border=\"1\" class=\"dataframe\">\n",
       "  <thead>\n",
       "    <tr style=\"text-align: right;\">\n",
       "      <th></th>\n",
       "      <th>Observation</th>\n",
       "      <th>Wage</th>\n",
       "      <th>LogWage</th>\n",
       "      <th>Female</th>\n",
       "      <th>Age</th>\n",
       "      <th>Educ</th>\n",
       "      <th>Parttime</th>\n",
       "    </tr>\n",
       "  </thead>\n",
       "  <tbody>\n",
       "    <tr>\n",
       "      <th>0</th>\n",
       "      <td>1</td>\n",
       "      <td>66</td>\n",
       "      <td>4.189655</td>\n",
       "      <td>0</td>\n",
       "      <td>49</td>\n",
       "      <td>1</td>\n",
       "      <td>1</td>\n",
       "    </tr>\n",
       "    <tr>\n",
       "      <th>1</th>\n",
       "      <td>2</td>\n",
       "      <td>34</td>\n",
       "      <td>3.526361</td>\n",
       "      <td>1</td>\n",
       "      <td>42</td>\n",
       "      <td>1</td>\n",
       "      <td>1</td>\n",
       "    </tr>\n",
       "    <tr>\n",
       "      <th>2</th>\n",
       "      <td>3</td>\n",
       "      <td>70</td>\n",
       "      <td>4.248495</td>\n",
       "      <td>1</td>\n",
       "      <td>42</td>\n",
       "      <td>1</td>\n",
       "      <td>1</td>\n",
       "    </tr>\n",
       "    <tr>\n",
       "      <th>3</th>\n",
       "      <td>4</td>\n",
       "      <td>47</td>\n",
       "      <td>3.850148</td>\n",
       "      <td>0</td>\n",
       "      <td>38</td>\n",
       "      <td>1</td>\n",
       "      <td>0</td>\n",
       "    </tr>\n",
       "    <tr>\n",
       "      <th>4</th>\n",
       "      <td>5</td>\n",
       "      <td>107</td>\n",
       "      <td>4.672829</td>\n",
       "      <td>1</td>\n",
       "      <td>54</td>\n",
       "      <td>1</td>\n",
       "      <td>1</td>\n",
       "    </tr>\n",
       "  </tbody>\n",
       "</table>\n",
       "</div>"
      ],
      "text/plain": [
       "   Observation  Wage   LogWage  Female  Age  Educ  Parttime\n",
       "0            1    66  4.189655       0   49     1         1\n",
       "1            2    34  3.526361       1   42     1         1\n",
       "2            3    70  4.248495       1   42     1         1\n",
       "3            4    47  3.850148       0   38     1         0\n",
       "4            5   107  4.672829       1   54     1         1"
      ]
     },
     "execution_count": 2,
     "metadata": {},
     "output_type": "execute_result"
    }
   ],
   "source": [
    "file_location=\"./data/TrainExer21.xls\"\n",
    "\n",
    "TrainExer1 = pd.read_excel(file_location)\n",
    "TrainExer1.head()"
   ]
  },
  {
   "cell_type": "markdown",
   "metadata": {},
   "source": [
    "#### Part A Solution\n",
    "##### Part A Code "
   ]
  },
  {
   "cell_type": "code",
   "execution_count": 3,
   "metadata": {},
   "outputs": [],
   "source": [
    "from sklearn import linear_model as lm\n",
    "import numpy as np"
   ]
  },
  {
   "cell_type": "code",
   "execution_count": 4,
   "metadata": {},
   "outputs": [],
   "source": [
    "X = TrainExer1.Female.values.reshape(-1,1) # sklearn expects the feature (independent variable to be in a shape (N,1))\n",
    "Y = TrainExer1.LogWage # sklearn expects the feature (dependent variable to be in a shape (N,)). Test using X.shape"
   ]
  },
  {
   "cell_type": "code",
   "execution_count": 5,
   "metadata": {},
   "outputs": [
    {
     "data": {
      "text/plain": [
       "LinearRegression(copy_X=True, fit_intercept=True, n_jobs=1, normalize=False)"
      ]
     },
     "execution_count": 5,
     "metadata": {},
     "output_type": "execute_result"
    }
   ],
   "source": [
    "model = lm.LinearRegression()\n",
    "model.fit(X,Y)"
   ]
  },
  {
   "cell_type": "markdown",
   "metadata": {},
   "source": [
    "##### Answer Part A"
   ]
  },
  {
   "cell_type": "code",
   "execution_count": 6,
   "metadata": {},
   "outputs": [
    {
     "name": "stdout",
     "output_type": "stream",
     "text": [
      " The model coefficient is:  [-0.25064253]\n",
      " The model intercept is:  4.73364433823\n"
     ]
    }
   ],
   "source": [
    "print(\" The model coefficient is: \", model.coef_)\n",
    "print(\" The model intercept is: \", model.intercept_)"
   ]
  },
  {
   "cell_type": "markdown",
   "metadata": {},
   "source": [
    "Comparing the above result with the lecture brings the values fairly close. **4.7333644** vs **4.73** and **-0.25064** vs **-0.25**.  Both the results are wtihin rounding differences. The above results can be resprsented visually as below."
   ]
  },
  {
   "cell_type": "code",
   "execution_count": 7,
   "metadata": {
    "collapsed": true
   },
   "outputs": [],
   "source": [
    "import matplotlib.pyplot as plt\n",
    "import seaborn as sns\n",
    "\n",
    "%matplotlib inline"
   ]
  },
  {
   "cell_type": "code",
   "execution_count": 8,
   "metadata": {},
   "outputs": [
    {
     "data": {
      "text/plain": [
       "<matplotlib.text.Text at 0x24a7c373dd8>"
      ]
     },
     "execution_count": 8,
     "metadata": {},
     "output_type": "execute_result"
    },
    {
     "data": {
      "image/png": "[encoded data removed]",
      "text/plain": [
       "<matplotlib.figure.Figure at 0x24a7c29c390>"
      ]
     },
     "metadata": {},
     "output_type": "display_data"
    }
   ],
   "source": [
    "plot = sns.regplot(X,Y)\n",
    "plot.axes.set_title(\"Log of Wage vs whether the respondent is a Female\", fontsize = 26)"
   ]
  },
  {
   "cell_type": "markdown",
   "metadata": {},
   "source": [
    "#### Part B Solution\n",
    "##### Part B Code "
   ]
  },
  {
   "cell_type": "code",
   "execution_count": 9,
   "metadata": {},
   "outputs": [],
   "source": [
    "a = model.intercept_\n",
    "b = model.coef_"
   ]
  },
  {
   "cell_type": "code",
   "execution_count": 10,
   "metadata": {},
   "outputs": [
    {
     "data": {
      "text/html": [
       "<div>\n",
       "<style>\n",
       "    .dataframe thead tr:only-child th {\n",
       "        text-align: right;\n",
       "    }\n",
       "\n",
       "    .dataframe thead th {\n",
       "        text-align: left;\n",
       "    }\n",
       "\n",
       "    .dataframe tbody tr th {\n",
       "        vertical-align: top;\n",
       "    }\n",
       "</style>\n",
       "<table border=\"1\" class=\"dataframe\">\n",
       "  <thead>\n",
       "    <tr style=\"text-align: right;\">\n",
       "      <th></th>\n",
       "      <th>Observation</th>\n",
       "      <th>Wage</th>\n",
       "      <th>LogWage</th>\n",
       "      <th>Female</th>\n",
       "      <th>Age</th>\n",
       "      <th>Educ</th>\n",
       "      <th>Parttime</th>\n",
       "      <th>e</th>\n",
       "    </tr>\n",
       "  </thead>\n",
       "  <tbody>\n",
       "    <tr>\n",
       "      <th>0</th>\n",
       "      <td>1</td>\n",
       "      <td>66</td>\n",
       "      <td>4.189655</td>\n",
       "      <td>0</td>\n",
       "      <td>49</td>\n",
       "      <td>1</td>\n",
       "      <td>1</td>\n",
       "      <td>-0.543990</td>\n",
       "    </tr>\n",
       "    <tr>\n",
       "      <th>1</th>\n",
       "      <td>2</td>\n",
       "      <td>34</td>\n",
       "      <td>3.526361</td>\n",
       "      <td>1</td>\n",
       "      <td>42</td>\n",
       "      <td>1</td>\n",
       "      <td>1</td>\n",
       "      <td>-1.457926</td>\n",
       "    </tr>\n",
       "    <tr>\n",
       "      <th>2</th>\n",
       "      <td>3</td>\n",
       "      <td>70</td>\n",
       "      <td>4.248495</td>\n",
       "      <td>1</td>\n",
       "      <td>42</td>\n",
       "      <td>1</td>\n",
       "      <td>1</td>\n",
       "      <td>-0.735792</td>\n",
       "    </tr>\n",
       "    <tr>\n",
       "      <th>3</th>\n",
       "      <td>4</td>\n",
       "      <td>47</td>\n",
       "      <td>3.850148</td>\n",
       "      <td>0</td>\n",
       "      <td>38</td>\n",
       "      <td>1</td>\n",
       "      <td>0</td>\n",
       "      <td>-0.883497</td>\n",
       "    </tr>\n",
       "    <tr>\n",
       "      <th>4</th>\n",
       "      <td>5</td>\n",
       "      <td>107</td>\n",
       "      <td>4.672829</td>\n",
       "      <td>1</td>\n",
       "      <td>54</td>\n",
       "      <td>1</td>\n",
       "      <td>1</td>\n",
       "      <td>-0.311458</td>\n",
       "    </tr>\n",
       "  </tbody>\n",
       "</table>\n",
       "</div>"
      ],
      "text/plain": [
       "   Observation  Wage   LogWage  Female  Age  Educ  Parttime         e\n",
       "0            1    66  4.189655       0   49     1         1 -0.543990\n",
       "1            2    34  3.526361       1   42     1         1 -1.457926\n",
       "2            3    70  4.248495       1   42     1         1 -0.735792\n",
       "3            4    47  3.850148       0   38     1         0 -0.883497\n",
       "4            5   107  4.672829       1   54     1         1 -0.311458"
      ]
     },
     "execution_count": 10,
     "metadata": {},
     "output_type": "execute_result"
    }
   ],
   "source": [
    "TrainExer1[\"e\"] = TrainExer1.LogWage - a + b*TrainExer1.Female\n",
    "TrainExer1.head() # sample data with residuals based on equation in A above."
   ]
  },
  {
   "cell_type": "code",
   "execution_count": 11,
   "metadata": {
    "collapsed": true
   },
   "outputs": [],
   "source": [
    "## Regressing e on education\n",
    "X_educ = TrainExer1.Educ.values.reshape(-1,1)\n",
    "X_job = TrainExer1.Parttime.values.reshape(-1,1)\n",
    "Y_error = TrainExer1.e"
   ]
  },
  {
   "cell_type": "code",
   "execution_count": 12,
   "metadata": {},
   "outputs": [
    {
     "data": {
      "text/plain": [
       "LinearRegression(copy_X=True, fit_intercept=True, n_jobs=1, normalize=False)"
      ]
     },
     "execution_count": 12,
     "metadata": {},
     "output_type": "execute_result"
    }
   ],
   "source": [
    "model2 = lm.LinearRegression()\n",
    "model2.fit(X_educ,Y_error)\n",
    "\n",
    "model3 = lm.LinearRegression()\n",
    "model3.fit(X_job,Y_error)"
   ]
  },
  {
   "cell_type": "markdown",
   "metadata": {},
   "source": [
    "##### Answer Part B (i) and (ii)"
   ]
  },
  {
   "cell_type": "code",
   "execution_count": 13,
   "metadata": {},
   "outputs": [
    {
     "name": "stdout",
     "output_type": "stream",
     "text": [
      " The model 2 with error & education coefficient is:  [ 0.26935618]\n",
      " The model 2 with error & education intercept is:  -0.744195043007\n",
      " The model 3 with error & part time job coefficient is:  [-0.04313759]\n",
      " The model 3 with error & part time job intercept is:  -0.172049277169\n"
     ]
    }
   ],
   "source": [
    "print(\" The model 2 with error & education coefficient is: \", model2.coef_)\n",
    "print(\" The model 2 with error & education intercept is: \", model2.intercept_)\n",
    "\n",
    "print(\" The model 3 with error & part time job coefficient is: \", model3.coef_)\n",
    "print(\" The model 3 with error & part time job intercept is: \", model3.intercept_)"
   ]
  },
  {
   "cell_type": "code",
   "execution_count": 14,
   "metadata": {},
   "outputs": [
    {
     "data": {
      "text/plain": [
       "<matplotlib.text.Text at 0x24a7c4d5f60>"
      ]
     },
     "execution_count": 14,
     "metadata": {},
     "output_type": "execute_result"
    },
    {
     "data": {
      "image/png": "[encoded data removed]",
      "text/plain": [
       "<matplotlib.figure.Figure at 0x24a7c309eb8>"
      ]
     },
     "metadata": {},
     "output_type": "display_data"
    }
   ],
   "source": [
    "fig, (ax1, ax2) = plt.subplots(ncols=2, sharey=True)\n",
    "sns.regplot(X_educ, Y_error, ax = ax1)\n",
    "ax1.figure.set_size_inches(14,6)\n",
    "ax1.axes.set_title('Residuls of Wage vs Gender Against Education', fontsize=16,color=\"b\",alpha=0.5)\n",
    "\n",
    "sns.regplot(X_job, Y_error, ax = ax2)\n",
    "ax2.figure.set_size_inches(14,6)\n",
    "ax2.axes.set_title('Residuls of Wage vs Gender Against Part time job status', fontsize=16,color=\"b\",alpha=0.5)"
   ]
  }
 ],
 "metadata": {
  "kernelspec": {
   "display_name": "Python 3",
   "language": "python",
   "name": "python3"
  },
  "language_info": {
   "codemirror_mode": {
    "name": "ipython",
    "version": 3
   },
   "file_extension": ".py",
   "mimetype": "text/x-python",
   "name": "python",
   "nbconvert_exporter": "python",
   "pygments_lexer": "ipython3",
   "version": "3.6.2"
  },
  "toc": {
   "colors": {
    "hover_highlight": "#DAA520",
    "navigate_num": "#000000",
    "navigate_text": "#333333",
    "running_highlight": "#FF0000",
    "selected_highlight": "#FFD700",
    "sidebar_border": "#EEEEEE",
    "wrapper_background": "#FFFFFF"
   },
   "moveMenuLeft": true,
   "nav_menu": {
    "height": "227px",
    "width": "252px"
   },
   "navigate_menu": true,
   "number_sections": true,
   "sideBar": true,
   "threshold": "6",
   "toc_cell": true,
   "toc_section_display": "block",
   "toc_window_display": false,
   "widenNotebook": false
  }
 },
 "nbformat": 4,
 "nbformat_minor": 2
}
