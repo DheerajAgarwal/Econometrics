{
 "cells": [
  {
   "cell_type": "markdown",
   "metadata": {},
   "source": [
    "# Week 1: Simple Regression"
   ]
  },
  {
   "cell_type": "markdown",
   "metadata": {},
   "source": [
    "## Training Exercise 1.5"
   ]
  },
  {
   "cell_type": "markdown",
   "metadata": {},
   "source": [
    "### Questions:\n",
    "\n",
    "Dataset **TrainExer15** contains the Winning time 100 meter athletics for men and women at Olympic Games 1948-2004.  \n",
    "\n",
    "    • Year: calendar year of Olympic Game (1948-2004)\n",
    "    • Game: order number of game (1-15)\n",
    "    • Winmen: winning time 100 meter athletics for men (in seconds)\n",
    "    • Winwomen: winning time 100 meter athletics for women (in seconds)\n",
    "\n",
    "In Lecture 1.5, we applied simple regression for data on winning times on the Olympic 100 meter (athletics). We computed the regression coefficients $a$ and $b$ for two trend models, one with a linear trend and one with a nonlinear trend. \n",
    "\n",
    "In a test question, you created forecasts of the winning times for both men and women in 2008 and 2012. Of course, you can also forecast further ahead in the future. In fact, it is even possible to predict when men and women would run equally fast, if the current trends persist.\n",
    "\n",
    "1. Show that the linear trend model predicts equal winning times at around 2140.\n",
    "2. Show that the nonlinear trend model predicts equal winning times at around 2192.\n",
    "3. Show that the linear trend model predicts equal winning times of approximately 8.53 seconds. \n",
    "4. Comment on these outcomes and on the underlying regression models."
   ]
  }
 ],
 "metadata": {
  "kernelspec": {
   "display_name": "Python 3",
   "language": "python",
   "name": "python3"
  },
  "language_info": {
   "codemirror_mode": {
    "name": "ipython",
    "version": 3
   },
   "file_extension": ".py",
   "mimetype": "text/x-python",
   "name": "python",
   "nbconvert_exporter": "python",
   "pygments_lexer": "ipython3",
   "version": "3.6.2"
  }
 },
 "nbformat": 4,
 "nbformat_minor": 2
}
