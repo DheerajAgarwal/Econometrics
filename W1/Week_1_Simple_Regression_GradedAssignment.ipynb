{
 "cells": [
  {
   "cell_type": "markdown",
   "metadata": {
    "toc": "true"
   },
   "source": [
    "# Table of Contents\n",
    " <p><div class=\"lev1 toc-item\"><a href=\"#Notes\" data-toc-modified-id=\"Notes-1\"><span class=\"toc-item-num\">1&nbsp;&nbsp;</span>Notes</a></div><div class=\"lev1 toc-item\"><a href=\"#Week-1-Graded-Assignment\" data-toc-modified-id=\"Week-1-Graded-Assignment-2\"><span class=\"toc-item-num\">2&nbsp;&nbsp;</span>Week 1 Graded Assignment</a></div><div class=\"lev3 toc-item\"><a href=\"#Questions\" data-toc-modified-id=\"Questions-201\"><span class=\"toc-item-num\">2.0.1&nbsp;&nbsp;</span>Questions</a></div><div class=\"lev3 toc-item\"><a href=\"#Solutions\" data-toc-modified-id=\"Solutions-202\"><span class=\"toc-item-num\">2.0.2&nbsp;&nbsp;</span>Solutions</a></div><div class=\"lev4 toc-item\"><a href=\"#Libraries-/-Modules\" data-toc-modified-id=\"Libraries-/-Modules-2021\"><span class=\"toc-item-num\">2.0.2.1&nbsp;&nbsp;</span>Libraries / Modules</a></div><div class=\"lev4 toc-item\"><a href=\"#Read-Data\" data-toc-modified-id=\"Read-Data-2022\"><span class=\"toc-item-num\">2.0.2.2&nbsp;&nbsp;</span>Read Data</a></div><div class=\"lev4 toc-item\"><a href=\"#Answer-1---Code-and-Calculations\" data-toc-modified-id=\"Answer-1---Code-and-Calculations-2023\"><span class=\"toc-item-num\">2.0.2.3&nbsp;&nbsp;</span>Answer 1 - Code and Calculations</a></div><div class=\"lev5 toc-item\"><a href=\"#coefficient-b\" data-toc-modified-id=\"coefficient-b-20231\"><span class=\"toc-item-num\">2.0.2.3.1&nbsp;&nbsp;</span>coefficient b</a></div><div class=\"lev5 toc-item\"><a href=\"#intercept-a\" data-toc-modified-id=\"intercept-a-20232\"><span class=\"toc-item-num\">2.0.2.3.2&nbsp;&nbsp;</span>intercept a</a></div><div class=\"lev5 toc-item\"><a href=\"#error\" data-toc-modified-id=\"error-20233\"><span class=\"toc-item-num\">2.0.2.3.3&nbsp;&nbsp;</span>error</a></div><div class=\"lev5 toc-item\"><a href=\"#standard-error\" data-toc-modified-id=\"standard-error-20234\"><span class=\"toc-item-num\">2.0.2.3.4&nbsp;&nbsp;</span>standard error</a></div><div class=\"lev5 toc-item\"><a href=\"#t-value\" data-toc-modified-id=\"t-value-20235\"><span class=\"toc-item-num\">2.0.2.3.5&nbsp;&nbsp;</span>t-value</a></div><div class=\"lev4 toc-item\"><a href=\"#Answer-1-Summary\" data-toc-modified-id=\"Answer-1-Summary-2024\"><span class=\"toc-item-num\">2.0.2.4&nbsp;&nbsp;</span>Answer 1 Summary</a></div><div class=\"lev4 toc-item\"><a href=\"#Answer-2\" data-toc-modified-id=\"Answer-2-2025\"><span class=\"toc-item-num\">2.0.2.5&nbsp;&nbsp;</span>Answer 2</a></div><div class=\"lev4 toc-item\"><a href=\"#Answer-3-Part-1---Age-less-than-40\" data-toc-modified-id=\"Answer-3-Part-1---Age-less-than-40-2026\"><span class=\"toc-item-num\">2.0.2.6&nbsp;&nbsp;</span>Answer 3 Part 1 - Age less than 40</a></div><div class=\"lev5 toc-item\"><a href=\"#Splitting-the-dataset-for-under-40-years-of-age\" data-toc-modified-id=\"Splitting-the-dataset-for-under-40-years-of-age-20261\"><span class=\"toc-item-num\">2.0.2.6.1&nbsp;&nbsp;</span>Splitting the dataset for under 40 years of age</a></div><div class=\"lev5 toc-item\"><a href=\"#Code-and-Summary\" data-toc-modified-id=\"Code-and-Summary-20262\"><span class=\"toc-item-num\">2.0.2.6.2&nbsp;&nbsp;</span>Code and Summary</a></div><div class=\"lev4 toc-item\"><a href=\"#Answer-3-Part-2---Age-equal-or-greater-than-40\" data-toc-modified-id=\"Answer-3-Part-2---Age-equal-or-greater-than-40-2027\"><span class=\"toc-item-num\">2.0.2.7&nbsp;&nbsp;</span>Answer 3 Part 2 - Age equal or greater than 40</a></div><div class=\"lev5 toc-item\"><a href=\"#Splitting-the-dataset-for-40-years-of-age-or-more\" data-toc-modified-id=\"Splitting-the-dataset-for-40-years-of-age-or-more-20271\"><span class=\"toc-item-num\">2.0.2.7.1&nbsp;&nbsp;</span>Splitting the dataset for 40 years of age or more</a></div><div class=\"lev4 toc-item\"><a href=\"#Answer-4\" data-toc-modified-id=\"Answer-4-2028\"><span class=\"toc-item-num\">2.0.2.8&nbsp;&nbsp;</span>Answer 4</a></div><div class=\"lev5 toc-item\"><a href=\"#Key-Observations\" data-toc-modified-id=\"Key-Observations-20281\"><span class=\"toc-item-num\">2.0.2.8.1&nbsp;&nbsp;</span>Key Observations</a></div>"
   ]
  },
  {
   "cell_type": "markdown",
   "metadata": {},
   "source": [
    "# Notes\n",
    "\n",
    "The notebook and other code can be found on [my github repo](https://github.com/DheerajAgarwal/Econometrics/tree/master/W1)."
   ]
  },
  {
   "cell_type": "markdown",
   "metadata": {},
   "source": [
    "# Week 1 Graded Assignment"
   ]
  },
  {
   "cell_type": "markdown",
   "metadata": {},
   "source": [
    "### Questions  \n",
    "\n",
    "This exercise considers an example of data that do not satisfy all the standard assumptions of simple regression. In the considered case, assumption A6 that the coefficients α and β are the same for all observations is violated. The dataset contains survey outcomes of a travel agency that wishes to improve recommendation strategies for its clients. The dataset contains 26 observations on age and average daily expenditures during holidays. \n",
    "\n",
    "1. Use all data to estimate the coefficients $a$ and $b$ in a simple regression model, where **expenditures** is the dependent variable and **age** is the explanatory factor. Also compute the standard error and the t-value of $b$.  \n",
    "2. Make the scatter diagram of expenditures against age and add the regression line $y = a + bx$ of part (1) in this diagram. What conclusion do you draw from this diagram?\n",
    "3. It seems there are two sets of observations in the scatter diagram, one for clients **aged 40 or higher** and another for clients **aged below 40**. Divide the sample into these two clusters, and for each cluster estimate the coefficients $a$ and $b$ and determine the standard error and t-value of $b$.\n",
    "4. Discuss and explain the main differences between the outcomes in parts (1) and (3). Describe in words what you have learned from these results."
   ]
  },
  {
   "cell_type": "markdown",
   "metadata": {},
   "source": [
    "**TestExer1-holiday expenditure**  \n",
    "\n",
    "Simulated data set on holiday expenditures of 26 clients.\n",
    "1. Age: age in years\n",
    "2. Expenditures: average daily expenditures during holidays"
   ]
  },
  {
   "cell_type": "markdown",
   "metadata": {},
   "source": [
    "### Solutions\n",
    "\n",
    "#### Libraries / Modules"
   ]
  },
  {
   "cell_type": "code",
   "execution_count": 1,
   "metadata": {
    "collapsed": true
   },
   "outputs": [],
   "source": [
    "# getting the necessary libraries to read the data\n",
    "import pandas as pd \n",
    "\n",
    "# import the libraries for any potential mathematical operation\n",
    "import math\n",
    "\n",
    "# getting libraries for the scatter diagram\n",
    "import matplotlib.pyplot as plt\n",
    "import seaborn as sns\n",
    "\n",
    "# necessary function to display the chart here once it is generated\n",
    "\n",
    "%matplotlib inline"
   ]
  },
  {
   "cell_type": "markdown",
   "metadata": {},
   "source": [
    "#### Read Data"
   ]
  },
  {
   "cell_type": "code",
   "execution_count": 2,
   "metadata": {},
   "outputs": [
    {
     "data": {
      "text/html": [
       "<div>\n",
       "<style>\n",
       "    .dataframe thead tr:only-child th {\n",
       "        text-align: right;\n",
       "    }\n",
       "\n",
       "    .dataframe thead th {\n",
       "        text-align: left;\n",
       "    }\n",
       "\n",
       "    .dataframe tbody tr th {\n",
       "        vertical-align: top;\n",
       "    }\n",
       "</style>\n",
       "<table border=\"1\" class=\"dataframe\">\n",
       "  <thead>\n",
       "    <tr style=\"text-align: right;\">\n",
       "      <th></th>\n",
       "      <th>Observ.</th>\n",
       "      <th>Age</th>\n",
       "      <th>Expenditures</th>\n",
       "    </tr>\n",
       "  </thead>\n",
       "  <tbody>\n",
       "    <tr>\n",
       "      <th>0</th>\n",
       "      <td>1</td>\n",
       "      <td>49</td>\n",
       "      <td>95</td>\n",
       "    </tr>\n",
       "    <tr>\n",
       "      <th>1</th>\n",
       "      <td>2</td>\n",
       "      <td>15</td>\n",
       "      <td>104</td>\n",
       "    </tr>\n",
       "    <tr>\n",
       "      <th>2</th>\n",
       "      <td>3</td>\n",
       "      <td>43</td>\n",
       "      <td>91</td>\n",
       "    </tr>\n",
       "    <tr>\n",
       "      <th>3</th>\n",
       "      <td>4</td>\n",
       "      <td>45</td>\n",
       "      <td>98</td>\n",
       "    </tr>\n",
       "    <tr>\n",
       "      <th>4</th>\n",
       "      <td>5</td>\n",
       "      <td>40</td>\n",
       "      <td>94</td>\n",
       "    </tr>\n",
       "    <tr>\n",
       "      <th>5</th>\n",
       "      <td>6</td>\n",
       "      <td>35</td>\n",
       "      <td>107</td>\n",
       "    </tr>\n",
       "    <tr>\n",
       "      <th>6</th>\n",
       "      <td>7</td>\n",
       "      <td>42</td>\n",
       "      <td>96</td>\n",
       "    </tr>\n",
       "    <tr>\n",
       "      <th>7</th>\n",
       "      <td>8</td>\n",
       "      <td>38</td>\n",
       "      <td>108</td>\n",
       "    </tr>\n",
       "    <tr>\n",
       "      <th>8</th>\n",
       "      <td>9</td>\n",
       "      <td>46</td>\n",
       "      <td>98</td>\n",
       "    </tr>\n",
       "    <tr>\n",
       "      <th>9</th>\n",
       "      <td>10</td>\n",
       "      <td>30</td>\n",
       "      <td>108</td>\n",
       "    </tr>\n",
       "    <tr>\n",
       "      <th>10</th>\n",
       "      <td>11</td>\n",
       "      <td>52</td>\n",
       "      <td>101</td>\n",
       "    </tr>\n",
       "    <tr>\n",
       "      <th>11</th>\n",
       "      <td>12</td>\n",
       "      <td>55</td>\n",
       "      <td>89</td>\n",
       "    </tr>\n",
       "    <tr>\n",
       "      <th>12</th>\n",
       "      <td>13</td>\n",
       "      <td>42</td>\n",
       "      <td>96</td>\n",
       "    </tr>\n",
       "    <tr>\n",
       "      <th>13</th>\n",
       "      <td>14</td>\n",
       "      <td>25</td>\n",
       "      <td>105</td>\n",
       "    </tr>\n",
       "    <tr>\n",
       "      <th>14</th>\n",
       "      <td>15</td>\n",
       "      <td>35</td>\n",
       "      <td>107</td>\n",
       "    </tr>\n",
       "    <tr>\n",
       "      <th>15</th>\n",
       "      <td>16</td>\n",
       "      <td>35</td>\n",
       "      <td>106</td>\n",
       "    </tr>\n",
       "    <tr>\n",
       "      <th>16</th>\n",
       "      <td>17</td>\n",
       "      <td>35</td>\n",
       "      <td>105</td>\n",
       "    </tr>\n",
       "    <tr>\n",
       "      <th>17</th>\n",
       "      <td>18</td>\n",
       "      <td>27</td>\n",
       "      <td>105</td>\n",
       "    </tr>\n",
       "    <tr>\n",
       "      <th>18</th>\n",
       "      <td>19</td>\n",
       "      <td>48</td>\n",
       "      <td>97</td>\n",
       "    </tr>\n",
       "    <tr>\n",
       "      <th>19</th>\n",
       "      <td>20</td>\n",
       "      <td>37</td>\n",
       "      <td>109</td>\n",
       "    </tr>\n",
       "    <tr>\n",
       "      <th>20</th>\n",
       "      <td>21</td>\n",
       "      <td>45</td>\n",
       "      <td>94</td>\n",
       "    </tr>\n",
       "    <tr>\n",
       "      <th>21</th>\n",
       "      <td>22</td>\n",
       "      <td>19</td>\n",
       "      <td>103</td>\n",
       "    </tr>\n",
       "    <tr>\n",
       "      <th>22</th>\n",
       "      <td>23</td>\n",
       "      <td>57</td>\n",
       "      <td>103</td>\n",
       "    </tr>\n",
       "    <tr>\n",
       "      <th>23</th>\n",
       "      <td>24</td>\n",
       "      <td>55</td>\n",
       "      <td>94</td>\n",
       "    </tr>\n",
       "    <tr>\n",
       "      <th>24</th>\n",
       "      <td>25</td>\n",
       "      <td>34</td>\n",
       "      <td>108</td>\n",
       "    </tr>\n",
       "    <tr>\n",
       "      <th>25</th>\n",
       "      <td>26</td>\n",
       "      <td>39</td>\n",
       "      <td>108</td>\n",
       "    </tr>\n",
       "  </tbody>\n",
       "</table>\n",
       "</div>"
      ],
      "text/plain": [
       "    Observ.  Age  Expenditures\n",
       "0         1   49            95\n",
       "1         2   15           104\n",
       "2         3   43            91\n",
       "3         4   45            98\n",
       "4         5   40            94\n",
       "5         6   35           107\n",
       "6         7   42            96\n",
       "7         8   38           108\n",
       "8         9   46            98\n",
       "9        10   30           108\n",
       "10       11   52           101\n",
       "11       12   55            89\n",
       "12       13   42            96\n",
       "13       14   25           105\n",
       "14       15   35           107\n",
       "15       16   35           106\n",
       "16       17   35           105\n",
       "17       18   27           105\n",
       "18       19   48            97\n",
       "19       20   37           109\n",
       "20       21   45            94\n",
       "21       22   19           103\n",
       "22       23   57           103\n",
       "23       24   55            94\n",
       "24       25   34           108\n",
       "25       26   39           108"
      ]
     },
     "execution_count": 2,
     "metadata": {},
     "output_type": "execute_result"
    }
   ],
   "source": [
    "TestExer1 = pd.read_csv(\"./data/TestExer1_holiday_expenditure.txt\", sep=\"\\t\") # the file is tab separated\n",
    "TestExer1"
   ]
  },
  {
   "cell_type": "markdown",
   "metadata": {},
   "source": [
    "#### Answer 1 - Code and Calculations"
   ]
  },
  {
   "cell_type": "code",
   "execution_count": 3,
   "metadata": {
    "collapsed": true
   },
   "outputs": [],
   "source": [
    "## calculating the value of b which is needed to derive a\n",
    "\n",
    "Y = TestExer1.Expenditures              # the dependent variable\n",
    "X = TestExer1.Age                       # the independent variable"
   ]
  },
  {
   "cell_type": "markdown",
   "metadata": {},
   "source": [
    "##### coefficient b"
   ]
  },
  {
   "cell_type": "code",
   "execution_count": 4,
   "metadata": {},
   "outputs": [
    {
     "name": "stdout",
     "output_type": "stream",
     "text": [
      "Value of b, the coefficient, rounded to 3 digits is:  -0.334\n"
     ]
    }
   ],
   "source": [
    "b = ((X*Y).mean() - X.mean()*Y.mean()) / ((X**2).mean() - (X.mean())**2)\n",
    "print(\"Value of b, the coefficient, rounded to 3 digits is: \",round(b,3))"
   ]
  },
  {
   "cell_type": "code",
   "execution_count": 5,
   "metadata": {},
   "outputs": [
    {
     "name": "stdout",
     "output_type": "stream",
     "text": [
      "Mean Age rounded to 3 digits is:  39.346\n",
      "Mean Expenditure rounded to 3 digits is:  101.115\n"
     ]
    }
   ],
   "source": [
    "X_bar = TestExer1.Age.mean()                # sample mean of age\n",
    "Y_bar = TestExer1.Expenditures.mean()   # sample mean of expenditures\n",
    "\n",
    "print(\"Mean Age rounded to 3 digits is: \", round(X_bar, 3))\n",
    "print(\"Mean Expenditure rounded to 3 digits is: \", round(Y_bar, 3))"
   ]
  },
  {
   "cell_type": "markdown",
   "metadata": {},
   "source": [
    "##### intercept a"
   ]
  },
  {
   "cell_type": "code",
   "execution_count": 6,
   "metadata": {},
   "outputs": [
    {
     "name": "stdout",
     "output_type": "stream",
     "text": [
      "Value of a, the intercept, rounded to 3 digits is:  114.241\n"
     ]
    }
   ],
   "source": [
    "a = Y_bar - b*X_bar\n",
    "print(\"Value of a, the intercept, rounded to 3 digits is: \", round(a, 3))"
   ]
  },
  {
   "cell_type": "markdown",
   "metadata": {},
   "source": [
    "##### error"
   ]
  },
  {
   "cell_type": "code",
   "execution_count": 7,
   "metadata": {},
   "outputs": [
    {
     "data": {
      "text/html": [
       "<div>\n",
       "<style>\n",
       "    .dataframe thead tr:only-child th {\n",
       "        text-align: right;\n",
       "    }\n",
       "\n",
       "    .dataframe thead th {\n",
       "        text-align: left;\n",
       "    }\n",
       "\n",
       "    .dataframe tbody tr th {\n",
       "        vertical-align: top;\n",
       "    }\n",
       "</style>\n",
       "<table border=\"1\" class=\"dataframe\">\n",
       "  <thead>\n",
       "    <tr style=\"text-align: right;\">\n",
       "      <th></th>\n",
       "      <th>Observ.</th>\n",
       "      <th>Age</th>\n",
       "      <th>Expenditures</th>\n",
       "      <th>error</th>\n",
       "    </tr>\n",
       "  </thead>\n",
       "  <tbody>\n",
       "    <tr>\n",
       "      <th>0</th>\n",
       "      <td>1</td>\n",
       "      <td>49</td>\n",
       "      <td>95</td>\n",
       "      <td>-2.894899</td>\n",
       "    </tr>\n",
       "    <tr>\n",
       "      <th>1</th>\n",
       "      <td>2</td>\n",
       "      <td>15</td>\n",
       "      <td>104</td>\n",
       "      <td>-5.237167</td>\n",
       "    </tr>\n",
       "    <tr>\n",
       "      <th>2</th>\n",
       "      <td>3</td>\n",
       "      <td>43</td>\n",
       "      <td>91</td>\n",
       "      <td>-8.896476</td>\n",
       "    </tr>\n",
       "    <tr>\n",
       "      <th>3</th>\n",
       "      <td>4</td>\n",
       "      <td>45</td>\n",
       "      <td>98</td>\n",
       "      <td>-1.229284</td>\n",
       "    </tr>\n",
       "    <tr>\n",
       "      <th>4</th>\n",
       "      <td>5</td>\n",
       "      <td>40</td>\n",
       "      <td>94</td>\n",
       "      <td>-6.897264</td>\n",
       "    </tr>\n",
       "  </tbody>\n",
       "</table>\n",
       "</div>"
      ],
      "text/plain": [
       "   Observ.  Age  Expenditures     error\n",
       "0        1   49            95 -2.894899\n",
       "1        2   15           104 -5.237167\n",
       "2        3   43            91 -8.896476\n",
       "3        4   45            98 -1.229284\n",
       "4        5   40            94 -6.897264"
      ]
     },
     "execution_count": 7,
     "metadata": {},
     "output_type": "execute_result"
    }
   ],
   "source": [
    "## calculate error now that we know a and b\n",
    "\n",
    "TestExer1[\"error\"] = TestExer1.Expenditures - a - b*TestExer1.Age\n",
    "TestExer1.head() # looking at the first 5 rows of the data set"
   ]
  },
  {
   "cell_type": "code",
   "execution_count": 8,
   "metadata": {
    "collapsed": true
   },
   "outputs": [],
   "source": [
    "sum_sq_error = (TestExer1.error ** 2).sum() # calculating the sum of squares"
   ]
  },
  {
   "cell_type": "markdown",
   "metadata": {},
   "source": [
    "##### standard error"
   ]
  },
  {
   "cell_type": "code",
   "execution_count": 9,
   "metadata": {},
   "outputs": [
    {
     "name": "stdout",
     "output_type": "stream",
     "text": [
      "The standard error rounded to 3 digits is:  5.073\n"
     ]
    }
   ],
   "source": [
    "n = TestExer1.shape[0]   # number of entries\n",
    "\n",
    "s = math.sqrt(1/(n-2) * sum_sq_error) # standard deviation\n",
    "print(\"The standard error rounded to 3 digits is: \", round(s, 3))"
   ]
  },
  {
   "cell_type": "markdown",
   "metadata": {},
   "source": [
    "##### t-value\n",
    "\n",
    "From the lecture 1.4 and the correspoding slides \n",
    "\n",
    "$$t_b = \\frac{b - \\beta}{s_b}$$\n",
    "\n",
    "where \n",
    "\n",
    "$${s_b}^2 = \\frac{s^2}{\\sum_{i=1}^n{{(x_i - \\bar x)^2}}}$$\n",
    "\n",
    "and\n",
    "\n",
    "$$\\beta = b - \\sum_{i=1}^n{c_ie_i}$$ \n",
    "\n",
    "where\n",
    "\n",
    "$$c_i = \\frac{x_i - \\bar x}{\\sum_{i=1}^n{{(x_i - \\bar x)^2}}}$$"
   ]
  },
  {
   "cell_type": "code",
   "execution_count": 10,
   "metadata": {},
   "outputs": [
    {
     "data": {
      "text/html": [
       "<div>\n",
       "<style>\n",
       "    .dataframe thead tr:only-child th {\n",
       "        text-align: right;\n",
       "    }\n",
       "\n",
       "    .dataframe thead th {\n",
       "        text-align: left;\n",
       "    }\n",
       "\n",
       "    .dataframe tbody tr th {\n",
       "        vertical-align: top;\n",
       "    }\n",
       "</style>\n",
       "<table border=\"1\" class=\"dataframe\">\n",
       "  <thead>\n",
       "    <tr style=\"text-align: right;\">\n",
       "      <th></th>\n",
       "      <th>Observ.</th>\n",
       "      <th>Age</th>\n",
       "      <th>Expenditures</th>\n",
       "      <th>error</th>\n",
       "      <th>c</th>\n",
       "    </tr>\n",
       "  </thead>\n",
       "  <tbody>\n",
       "    <tr>\n",
       "      <th>0</th>\n",
       "      <td>1</td>\n",
       "      <td>49</td>\n",
       "      <td>95</td>\n",
       "      <td>-2.894899</td>\n",
       "      <td>0.003411</td>\n",
       "    </tr>\n",
       "    <tr>\n",
       "      <th>1</th>\n",
       "      <td>2</td>\n",
       "      <td>15</td>\n",
       "      <td>104</td>\n",
       "      <td>-5.237167</td>\n",
       "      <td>-0.008603</td>\n",
       "    </tr>\n",
       "    <tr>\n",
       "      <th>2</th>\n",
       "      <td>3</td>\n",
       "      <td>43</td>\n",
       "      <td>91</td>\n",
       "      <td>-8.896476</td>\n",
       "      <td>0.001291</td>\n",
       "    </tr>\n",
       "    <tr>\n",
       "      <th>3</th>\n",
       "      <td>4</td>\n",
       "      <td>45</td>\n",
       "      <td>98</td>\n",
       "      <td>-1.229284</td>\n",
       "      <td>0.001998</td>\n",
       "    </tr>\n",
       "    <tr>\n",
       "      <th>4</th>\n",
       "      <td>5</td>\n",
       "      <td>40</td>\n",
       "      <td>94</td>\n",
       "      <td>-6.897264</td>\n",
       "      <td>0.000231</td>\n",
       "    </tr>\n",
       "    <tr>\n",
       "      <th>5</th>\n",
       "      <td>6</td>\n",
       "      <td>35</td>\n",
       "      <td>107</td>\n",
       "      <td>4.434755</td>\n",
       "      <td>-0.001536</td>\n",
       "    </tr>\n",
       "  </tbody>\n",
       "</table>\n",
       "</div>"
      ],
      "text/plain": [
       "   Observ.  Age  Expenditures     error         c\n",
       "0        1   49            95 -2.894899  0.003411\n",
       "1        2   15           104 -5.237167 -0.008603\n",
       "2        3   43            91 -8.896476  0.001291\n",
       "3        4   45            98 -1.229284  0.001998\n",
       "4        5   40            94 -6.897264  0.000231\n",
       "5        6   35           107  4.434755 -0.001536"
      ]
     },
     "execution_count": 10,
     "metadata": {},
     "output_type": "execute_result"
    }
   ],
   "source": [
    "## calclating ci in the dataset\n",
    "\n",
    "TestExer1[\"c\"] = (TestExer1.Age - X_bar) / ((TestExer1.Age - X_bar)**2).sum()\n",
    "TestExer1.head(6) # showing the first few rows of the enhanced dataset"
   ]
  },
  {
   "cell_type": "code",
   "execution_count": 11,
   "metadata": {},
   "outputs": [
    {
     "name": "stdout",
     "output_type": "stream",
     "text": [
      "The value of beta rounded to 3 digits is:  -0.334\n"
     ]
    }
   ],
   "source": [
    "beta = b - (TestExer1.c * TestExer1.error).sum()\n",
    "print(\"The value of beta rounded to 3 digits is: \", round(beta, 3))"
   ]
  },
  {
   "cell_type": "code",
   "execution_count": 12,
   "metadata": {},
   "outputs": [
    {
     "data": {
      "text/plain": [
       "0.009095281025772856"
      ]
     },
     "execution_count": 12,
     "metadata": {},
     "output_type": "execute_result"
    }
   ],
   "source": [
    "## calculating sb^2 before arriving at t\n",
    "s_b_sq = s**2 / ((X - X_bar)**2).sum()\n",
    "s_b_sq"
   ]
  },
  {
   "cell_type": "code",
   "execution_count": 13,
   "metadata": {},
   "outputs": [
    {
     "name": "stdout",
     "output_type": "stream",
     "text": [
      "The t value of b is:  2.31925076400655e-13\n"
     ]
    }
   ],
   "source": [
    "t_b = (b - beta)/s_b_sq\n",
    "print(\"The t value of b is: \", t_b) # it is too low to round"
   ]
  },
  {
   "cell_type": "markdown",
   "metadata": {},
   "source": [
    "#### Answer 1 Summary "
   ]
  },
  {
   "cell_type": "code",
   "execution_count": 14,
   "metadata": {},
   "outputs": [
    {
     "name": "stdout",
     "output_type": "stream",
     "text": [
      "Quick Summary of Answer 1 results\n",
      "\n",
      "Value of a, the intercept, rounded to 3 digits is:  114.241\n",
      "Value of b, the coefficient, rounded to 3 digits is:  -0.334\n",
      "The standard error rounded to 3 digits is:  5.073\n",
      "The value of beta rounded to 3 digits is:  -0.334\n",
      "The t value of b is:  2.31925076400655e-13\n"
     ]
    }
   ],
   "source": [
    "print(\"Quick Summary of Answer 1 results\\n\")\n",
    "print(\"Value of a, the intercept, rounded to 3 digits is: \", round(a, 3))\n",
    "print(\"Value of b, the coefficient, rounded to 3 digits is: \",round(b,3))\n",
    "print(\"The standard error rounded to 3 digits is: \", round(s, 3))\n",
    "print(\"The value of beta rounded to 3 digits is: \", round(beta, 3))\n",
    "print(\"The t value of b is: \", t_b)"
   ]
  },
  {
   "cell_type": "markdown",
   "metadata": {},
   "source": [
    "#### Answer 2"
   ]
  },
  {
   "cell_type": "code",
   "execution_count": 15,
   "metadata": {},
   "outputs": [
    {
     "data": {
      "text/plain": [
       "<matplotlib.text.Text at 0x1a981e48fd0>"
      ]
     },
     "execution_count": 15,
     "metadata": {},
     "output_type": "execute_result"
    },
    {
     "data": {
      "image/png": "[encoded data removed]",
      "text/plain": [
       "<matplotlib.figure.Figure at 0x1a981c98828>"
      ]
     },
     "metadata": {},
     "output_type": "display_data"
    }
   ],
   "source": [
    "plot = sns.regplot(data=TestExer1, x= \"Age\", y= \"Expenditures\")\n",
    "plot.figure.set_size_inches(14,6)\n",
    "plot.axes.set_title('Expenditures against Age', fontsize=34,color=\"b\",alpha=0.5)"
   ]
  },
  {
   "cell_type": "markdown",
   "metadata": {},
   "source": [
    "We can clearly observe that there is a decreasing trend between the expeditures and age. As Age inceases, the expense goes down."
   ]
  },
  {
   "cell_type": "markdown",
   "metadata": {},
   "source": [
    "#### Answer 3 Part 1 - Age less than 40"
   ]
  },
  {
   "cell_type": "markdown",
   "metadata": {},
   "source": [
    "##### Splitting the dataset for under 40 years of age"
   ]
  },
  {
   "cell_type": "code",
   "execution_count": 16,
   "metadata": {},
   "outputs": [
    {
     "data": {
      "text/html": [
       "<div>\n",
       "<style>\n",
       "    .dataframe thead tr:only-child th {\n",
       "        text-align: right;\n",
       "    }\n",
       "\n",
       "    .dataframe thead th {\n",
       "        text-align: left;\n",
       "    }\n",
       "\n",
       "    .dataframe tbody tr th {\n",
       "        vertical-align: top;\n",
       "    }\n",
       "</style>\n",
       "<table border=\"1\" class=\"dataframe\">\n",
       "  <thead>\n",
       "    <tr style=\"text-align: right;\">\n",
       "      <th></th>\n",
       "      <th>Observ.</th>\n",
       "      <th>Age</th>\n",
       "      <th>Expenditures</th>\n",
       "      <th>error</th>\n",
       "      <th>c</th>\n",
       "    </tr>\n",
       "  </thead>\n",
       "  <tbody>\n",
       "    <tr>\n",
       "      <th>1</th>\n",
       "      <td>2</td>\n",
       "      <td>15</td>\n",
       "      <td>104</td>\n",
       "      <td>-5.237167</td>\n",
       "      <td>-0.008603</td>\n",
       "    </tr>\n",
       "    <tr>\n",
       "      <th>5</th>\n",
       "      <td>6</td>\n",
       "      <td>35</td>\n",
       "      <td>107</td>\n",
       "      <td>4.434755</td>\n",
       "      <td>-0.001536</td>\n",
       "    </tr>\n",
       "    <tr>\n",
       "      <th>7</th>\n",
       "      <td>8</td>\n",
       "      <td>38</td>\n",
       "      <td>108</td>\n",
       "      <td>6.435544</td>\n",
       "      <td>-0.000476</td>\n",
       "    </tr>\n",
       "    <tr>\n",
       "      <th>9</th>\n",
       "      <td>10</td>\n",
       "      <td>30</td>\n",
       "      <td>108</td>\n",
       "      <td>3.766775</td>\n",
       "      <td>-0.003303</td>\n",
       "    </tr>\n",
       "    <tr>\n",
       "      <th>13</th>\n",
       "      <td>14</td>\n",
       "      <td>25</td>\n",
       "      <td>105</td>\n",
       "      <td>-0.901206</td>\n",
       "      <td>-0.005070</td>\n",
       "    </tr>\n",
       "    <tr>\n",
       "      <th>14</th>\n",
       "      <td>15</td>\n",
       "      <td>35</td>\n",
       "      <td>107</td>\n",
       "      <td>4.434755</td>\n",
       "      <td>-0.001536</td>\n",
       "    </tr>\n",
       "    <tr>\n",
       "      <th>15</th>\n",
       "      <td>16</td>\n",
       "      <td>35</td>\n",
       "      <td>106</td>\n",
       "      <td>3.434755</td>\n",
       "      <td>-0.001536</td>\n",
       "    </tr>\n",
       "    <tr>\n",
       "      <th>16</th>\n",
       "      <td>17</td>\n",
       "      <td>35</td>\n",
       "      <td>105</td>\n",
       "      <td>2.434755</td>\n",
       "      <td>-0.001536</td>\n",
       "    </tr>\n",
       "    <tr>\n",
       "      <th>17</th>\n",
       "      <td>18</td>\n",
       "      <td>27</td>\n",
       "      <td>105</td>\n",
       "      <td>-0.234013</td>\n",
       "      <td>-0.004363</td>\n",
       "    </tr>\n",
       "    <tr>\n",
       "      <th>19</th>\n",
       "      <td>20</td>\n",
       "      <td>37</td>\n",
       "      <td>109</td>\n",
       "      <td>7.101948</td>\n",
       "      <td>-0.000829</td>\n",
       "    </tr>\n",
       "    <tr>\n",
       "      <th>21</th>\n",
       "      <td>22</td>\n",
       "      <td>19</td>\n",
       "      <td>103</td>\n",
       "      <td>-4.902782</td>\n",
       "      <td>-0.007190</td>\n",
       "    </tr>\n",
       "    <tr>\n",
       "      <th>24</th>\n",
       "      <td>25</td>\n",
       "      <td>34</td>\n",
       "      <td>108</td>\n",
       "      <td>5.101159</td>\n",
       "      <td>-0.001889</td>\n",
       "    </tr>\n",
       "    <tr>\n",
       "      <th>25</th>\n",
       "      <td>26</td>\n",
       "      <td>39</td>\n",
       "      <td>108</td>\n",
       "      <td>6.769140</td>\n",
       "      <td>-0.000122</td>\n",
       "    </tr>\n",
       "  </tbody>\n",
       "</table>\n",
       "</div>"
      ],
      "text/plain": [
       "    Observ.  Age  Expenditures     error         c\n",
       "1         2   15           104 -5.237167 -0.008603\n",
       "5         6   35           107  4.434755 -0.001536\n",
       "7         8   38           108  6.435544 -0.000476\n",
       "9        10   30           108  3.766775 -0.003303\n",
       "13       14   25           105 -0.901206 -0.005070\n",
       "14       15   35           107  4.434755 -0.001536\n",
       "15       16   35           106  3.434755 -0.001536\n",
       "16       17   35           105  2.434755 -0.001536\n",
       "17       18   27           105 -0.234013 -0.004363\n",
       "19       20   37           109  7.101948 -0.000829\n",
       "21       22   19           103 -4.902782 -0.007190\n",
       "24       25   34           108  5.101159 -0.001889\n",
       "25       26   39           108  6.769140 -0.000122"
      ]
     },
     "execution_count": 16,
     "metadata": {},
     "output_type": "execute_result"
    }
   ],
   "source": [
    "msk = TestExer1.Age < 40\n",
    "young = TestExer1[msk].copy()\n",
    "young"
   ]
  },
  {
   "cell_type": "markdown",
   "metadata": {},
   "source": [
    "The code will follow a similar pattern as was done for Answer 1. I am not breaking the code down in individual blocks at this stage, however the results will be printed in a summary as was previously done with the summary of Answer 1."
   ]
  },
  {
   "cell_type": "markdown",
   "metadata": {},
   "source": [
    "##### Code and Summary"
   ]
  },
  {
   "cell_type": "code",
   "execution_count": 17,
   "metadata": {},
   "outputs": [
    {
     "name": "stdout",
     "output_type": "stream",
     "text": [
      "Value of a, the intercept, rounded to 3 digits is:  100.232\n",
      "Value of b, the coefficient, rounded to 3 digits is:  0.198\n",
      "\n",
      "The standard error rounded to 3 digits is:  1.153\n",
      "The t value of b is:  269.84348995729385\n",
      "\n",
      "\n",
      " Sample data for the final dataset for Age < 40 with error and c\n"
     ]
    },
    {
     "data": {
      "text/html": [
       "<div>\n",
       "<style>\n",
       "    .dataframe thead tr:only-child th {\n",
       "        text-align: right;\n",
       "    }\n",
       "\n",
       "    .dataframe thead th {\n",
       "        text-align: left;\n",
       "    }\n",
       "\n",
       "    .dataframe tbody tr th {\n",
       "        vertical-align: top;\n",
       "    }\n",
       "</style>\n",
       "<table border=\"1\" class=\"dataframe\">\n",
       "  <thead>\n",
       "    <tr style=\"text-align: right;\">\n",
       "      <th></th>\n",
       "      <th>Observ.</th>\n",
       "      <th>Age</th>\n",
       "      <th>Expenditures</th>\n",
       "      <th>error</th>\n",
       "      <th>c</th>\n",
       "    </tr>\n",
       "  </thead>\n",
       "  <tbody>\n",
       "    <tr>\n",
       "      <th>1</th>\n",
       "      <td>2</td>\n",
       "      <td>15</td>\n",
       "      <td>104</td>\n",
       "      <td>0.798154</td>\n",
       "      <td>-0.008603</td>\n",
       "    </tr>\n",
       "    <tr>\n",
       "      <th>5</th>\n",
       "      <td>6</td>\n",
       "      <td>35</td>\n",
       "      <td>107</td>\n",
       "      <td>-0.161272</td>\n",
       "      <td>-0.001536</td>\n",
       "    </tr>\n",
       "    <tr>\n",
       "      <th>7</th>\n",
       "      <td>8</td>\n",
       "      <td>38</td>\n",
       "      <td>108</td>\n",
       "      <td>0.244814</td>\n",
       "      <td>-0.000476</td>\n",
       "    </tr>\n",
       "    <tr>\n",
       "      <th>9</th>\n",
       "      <td>10</td>\n",
       "      <td>30</td>\n",
       "      <td>108</td>\n",
       "      <td>1.828584</td>\n",
       "      <td>-0.003303</td>\n",
       "    </tr>\n",
       "    <tr>\n",
       "      <th>13</th>\n",
       "      <td>14</td>\n",
       "      <td>25</td>\n",
       "      <td>105</td>\n",
       "      <td>-0.181559</td>\n",
       "      <td>-0.005070</td>\n",
       "    </tr>\n",
       "  </tbody>\n",
       "</table>\n",
       "</div>"
      ],
      "text/plain": [
       "    Observ.  Age  Expenditures     error         c\n",
       "1         2   15           104  0.798154 -0.008603\n",
       "5         6   35           107 -0.161272 -0.001536\n",
       "7         8   38           108  0.244814 -0.000476\n",
       "9        10   30           108  1.828584 -0.003303\n",
       "13       14   25           105 -0.181559 -0.005070"
      ]
     },
     "execution_count": 17,
     "metadata": {},
     "output_type": "execute_result"
    }
   ],
   "source": [
    "## calculating the value of b which is needed to derive a\n",
    "\n",
    "Y = young.Expenditures              # the dependent variable\n",
    "X = young.Age                       # the independent variable\n",
    "\n",
    "b = ((X*Y).mean() - X.mean()*Y.mean()) / ((X**2).mean() - (X.mean())**2)\n",
    "\n",
    "X_bar = X.mean()                # sample mean of age\n",
    "Y_bar = Y.mean() \n",
    "\n",
    "a = Y_bar - b*X_bar\n",
    "print(\"Value of a, the intercept, rounded to 3 digits is: \", round(a, 3))\n",
    "print(\"Value of b, the coefficient, rounded to 3 digits is: \",round(b,3))\n",
    "\n",
    "## calculate error now that we know a and b\n",
    "\n",
    "young[\"error\"] = Y - a - b*X\n",
    "\n",
    "sum_sq_error = (young.error ** 2).sum() # calculating the sum of squares\n",
    "\n",
    "n = young.shape[0]   # number of entries\n",
    "\n",
    "s = math.sqrt(1/(n-2) * sum_sq_error) # standard deviation\n",
    "print(\"\\nThe standard error rounded to 3 digits is: \", round(s, 3))\n",
    "\n",
    "## calculating sb^2 before arriving at t\n",
    "s_b_sq = s**2 / ((X - X_bar)**2).sum()\n",
    "s_b_sq\n",
    "\n",
    "t_b = (b - beta)/s_b_sq\n",
    "print(\"The t value of b is: \", t_b) # it is too low to round\n",
    "\n",
    "# sample data set with errors and c\n",
    "print(\"\\n\\n Sample data for the final dataset for Age < 40 with error and c\")\n",
    "young.head()"
   ]
  },
  {
   "cell_type": "markdown",
   "metadata": {},
   "source": [
    "#### Answer 3 Part 2 - Age equal or greater than 40"
   ]
  },
  {
   "cell_type": "markdown",
   "metadata": {},
   "source": [
    "##### Splitting the dataset for 40 years of age or more"
   ]
  },
  {
   "cell_type": "code",
   "execution_count": 18,
   "metadata": {},
   "outputs": [
    {
     "data": {
      "text/html": [
       "<div>\n",
       "<style>\n",
       "    .dataframe thead tr:only-child th {\n",
       "        text-align: right;\n",
       "    }\n",
       "\n",
       "    .dataframe thead th {\n",
       "        text-align: left;\n",
       "    }\n",
       "\n",
       "    .dataframe tbody tr th {\n",
       "        vertical-align: top;\n",
       "    }\n",
       "</style>\n",
       "<table border=\"1\" class=\"dataframe\">\n",
       "  <thead>\n",
       "    <tr style=\"text-align: right;\">\n",
       "      <th></th>\n",
       "      <th>Observ.</th>\n",
       "      <th>Age</th>\n",
       "      <th>Expenditures</th>\n",
       "      <th>error</th>\n",
       "      <th>c</th>\n",
       "    </tr>\n",
       "  </thead>\n",
       "  <tbody>\n",
       "    <tr>\n",
       "      <th>0</th>\n",
       "      <td>1</td>\n",
       "      <td>49</td>\n",
       "      <td>95</td>\n",
       "      <td>-2.894899</td>\n",
       "      <td>0.003411</td>\n",
       "    </tr>\n",
       "    <tr>\n",
       "      <th>2</th>\n",
       "      <td>3</td>\n",
       "      <td>43</td>\n",
       "      <td>91</td>\n",
       "      <td>-8.896476</td>\n",
       "      <td>0.001291</td>\n",
       "    </tr>\n",
       "    <tr>\n",
       "      <th>3</th>\n",
       "      <td>4</td>\n",
       "      <td>45</td>\n",
       "      <td>98</td>\n",
       "      <td>-1.229284</td>\n",
       "      <td>0.001998</td>\n",
       "    </tr>\n",
       "    <tr>\n",
       "      <th>4</th>\n",
       "      <td>5</td>\n",
       "      <td>40</td>\n",
       "      <td>94</td>\n",
       "      <td>-6.897264</td>\n",
       "      <td>0.000231</td>\n",
       "    </tr>\n",
       "    <tr>\n",
       "      <th>6</th>\n",
       "      <td>7</td>\n",
       "      <td>42</td>\n",
       "      <td>96</td>\n",
       "      <td>-4.230072</td>\n",
       "      <td>0.000938</td>\n",
       "    </tr>\n",
       "    <tr>\n",
       "      <th>8</th>\n",
       "      <td>9</td>\n",
       "      <td>46</td>\n",
       "      <td>98</td>\n",
       "      <td>-0.895688</td>\n",
       "      <td>0.002351</td>\n",
       "    </tr>\n",
       "    <tr>\n",
       "      <th>10</th>\n",
       "      <td>11</td>\n",
       "      <td>52</td>\n",
       "      <td>101</td>\n",
       "      <td>4.105889</td>\n",
       "      <td>0.004472</td>\n",
       "    </tr>\n",
       "    <tr>\n",
       "      <th>11</th>\n",
       "      <td>12</td>\n",
       "      <td>55</td>\n",
       "      <td>89</td>\n",
       "      <td>-6.893323</td>\n",
       "      <td>0.005532</td>\n",
       "    </tr>\n",
       "    <tr>\n",
       "      <th>12</th>\n",
       "      <td>13</td>\n",
       "      <td>42</td>\n",
       "      <td>96</td>\n",
       "      <td>-4.230072</td>\n",
       "      <td>0.000938</td>\n",
       "    </tr>\n",
       "    <tr>\n",
       "      <th>18</th>\n",
       "      <td>19</td>\n",
       "      <td>48</td>\n",
       "      <td>97</td>\n",
       "      <td>-1.228495</td>\n",
       "      <td>0.003058</td>\n",
       "    </tr>\n",
       "    <tr>\n",
       "      <th>20</th>\n",
       "      <td>21</td>\n",
       "      <td>45</td>\n",
       "      <td>94</td>\n",
       "      <td>-5.229284</td>\n",
       "      <td>0.001998</td>\n",
       "    </tr>\n",
       "    <tr>\n",
       "      <th>22</th>\n",
       "      <td>23</td>\n",
       "      <td>57</td>\n",
       "      <td>103</td>\n",
       "      <td>7.773870</td>\n",
       "      <td>0.006238</td>\n",
       "    </tr>\n",
       "    <tr>\n",
       "      <th>23</th>\n",
       "      <td>24</td>\n",
       "      <td>55</td>\n",
       "      <td>94</td>\n",
       "      <td>-1.893323</td>\n",
       "      <td>0.005532</td>\n",
       "    </tr>\n",
       "  </tbody>\n",
       "</table>\n",
       "</div>"
      ],
      "text/plain": [
       "    Observ.  Age  Expenditures     error         c\n",
       "0         1   49            95 -2.894899  0.003411\n",
       "2         3   43            91 -8.896476  0.001291\n",
       "3         4   45            98 -1.229284  0.001998\n",
       "4         5   40            94 -6.897264  0.000231\n",
       "6         7   42            96 -4.230072  0.000938\n",
       "8         9   46            98 -0.895688  0.002351\n",
       "10       11   52           101  4.105889  0.004472\n",
       "11       12   55            89 -6.893323  0.005532\n",
       "12       13   42            96 -4.230072  0.000938\n",
       "18       19   48            97 -1.228495  0.003058\n",
       "20       21   45            94 -5.229284  0.001998\n",
       "22       23   57           103  7.773870  0.006238\n",
       "23       24   55            94 -1.893323  0.005532"
      ]
     },
     "execution_count": 18,
     "metadata": {},
     "output_type": "execute_result"
    }
   ],
   "source": [
    "msk = TestExer1.Age >= 40\n",
    "old = TestExer1[msk].copy()\n",
    "old"
   ]
  },
  {
   "cell_type": "markdown",
   "metadata": {},
   "source": [
    "The code will follow a similar pattern as was done for Answer 1 and Answer 3, part 1. I am not breaking the code down in individual blocks at this stage, however the results will be printed in a summary as was previously done with the summary of Answer 1 and Answer 3, part 1."
   ]
  },
  {
   "cell_type": "code",
   "execution_count": 19,
   "metadata": {},
   "outputs": [
    {
     "name": "stdout",
     "output_type": "stream",
     "text": [
      "Value of a, the intercept, rounded to 3 digits is:  88.872\n",
      "Value of b, the coefficient, rounded to 3 digits is:  0.146\n",
      "\n",
      "The standard error rounded to 3 digits is:  3.833\n",
      "The t value of b is:  12.321853794664525\n",
      "\n",
      "\n",
      " Sample data for the final dataset for Age > =  40 with error and c\n"
     ]
    },
    {
     "data": {
      "text/html": [
       "<div>\n",
       "<style>\n",
       "    .dataframe thead tr:only-child th {\n",
       "        text-align: right;\n",
       "    }\n",
       "\n",
       "    .dataframe thead th {\n",
       "        text-align: left;\n",
       "    }\n",
       "\n",
       "    .dataframe tbody tr th {\n",
       "        vertical-align: top;\n",
       "    }\n",
       "</style>\n",
       "<table border=\"1\" class=\"dataframe\">\n",
       "  <thead>\n",
       "    <tr style=\"text-align: right;\">\n",
       "      <th></th>\n",
       "      <th>Observ.</th>\n",
       "      <th>Age</th>\n",
       "      <th>Expenditures</th>\n",
       "      <th>error</th>\n",
       "      <th>c</th>\n",
       "    </tr>\n",
       "  </thead>\n",
       "  <tbody>\n",
       "    <tr>\n",
       "      <th>0</th>\n",
       "      <td>1</td>\n",
       "      <td>49</td>\n",
       "      <td>95</td>\n",
       "      <td>-1.048960</td>\n",
       "      <td>0.003411</td>\n",
       "    </tr>\n",
       "    <tr>\n",
       "      <th>2</th>\n",
       "      <td>3</td>\n",
       "      <td>43</td>\n",
       "      <td>91</td>\n",
       "      <td>-4.170135</td>\n",
       "      <td>0.001291</td>\n",
       "    </tr>\n",
       "    <tr>\n",
       "      <th>3</th>\n",
       "      <td>4</td>\n",
       "      <td>45</td>\n",
       "      <td>98</td>\n",
       "      <td>2.536924</td>\n",
       "      <td>0.001998</td>\n",
       "    </tr>\n",
       "    <tr>\n",
       "      <th>4</th>\n",
       "      <td>5</td>\n",
       "      <td>40</td>\n",
       "      <td>94</td>\n",
       "      <td>-0.730722</td>\n",
       "      <td>0.000231</td>\n",
       "    </tr>\n",
       "    <tr>\n",
       "      <th>6</th>\n",
       "      <td>7</td>\n",
       "      <td>42</td>\n",
       "      <td>96</td>\n",
       "      <td>0.976336</td>\n",
       "      <td>0.000938</td>\n",
       "    </tr>\n",
       "  </tbody>\n",
       "</table>\n",
       "</div>"
      ],
      "text/plain": [
       "   Observ.  Age  Expenditures     error         c\n",
       "0        1   49            95 -1.048960  0.003411\n",
       "2        3   43            91 -4.170135  0.001291\n",
       "3        4   45            98  2.536924  0.001998\n",
       "4        5   40            94 -0.730722  0.000231\n",
       "6        7   42            96  0.976336  0.000938"
      ]
     },
     "execution_count": 19,
     "metadata": {},
     "output_type": "execute_result"
    }
   ],
   "source": [
    "## calculating the value of b which is needed to derive a\n",
    "\n",
    "Y = old.Expenditures              # the dependent variable\n",
    "X = old.Age                       # the independent variable\n",
    "\n",
    "b = ((X*Y).mean() - X.mean()*Y.mean()) / ((X**2).mean() - (X.mean())**2)\n",
    "\n",
    "X_bar = X.mean()                # sample mean of age\n",
    "Y_bar = Y.mean() \n",
    "\n",
    "a = Y_bar - b*X_bar\n",
    "print(\"Value of a, the intercept, rounded to 3 digits is: \", round(a, 3))\n",
    "print(\"Value of b, the coefficient, rounded to 3 digits is: \",round(b,3))\n",
    "\n",
    "## calculate error now that we know a and b\n",
    "\n",
    "old[\"error\"] = Y - a - b*X\n",
    "\n",
    "sum_sq_error = (old.error ** 2).sum() # calculating the sum of squares\n",
    "\n",
    "n = old.shape[0]   # number of entries\n",
    "\n",
    "s = math.sqrt(1/(n-2) * sum_sq_error) # standard deviation\n",
    "print(\"\\nThe standard error rounded to 3 digits is: \", round(s, 3))\n",
    "\n",
    "## calculating sb^2 before arriving at t\n",
    "s_b_sq = s**2 / ((X - X_bar)**2).sum()\n",
    "s_b_sq\n",
    "\n",
    "t_b = (b - beta)/s_b_sq\n",
    "print(\"The t value of b is: \", t_b) # it is too low to round\n",
    "\n",
    "# sample data set with errors and c\n",
    "print(\"\\n\\n Sample data for the final dataset for Age > =  40 with error and c\")\n",
    "old.head()"
   ]
  },
  {
   "cell_type": "markdown",
   "metadata": {},
   "source": [
    "#### Answer 4"
   ]
  },
  {
   "cell_type": "markdown",
   "metadata": {},
   "source": [
    "Let us plot the two data subsets and see if there are any visuals cues that confirm our analysis"
   ]
  },
  {
   "cell_type": "code",
   "execution_count": 20,
   "metadata": {},
   "outputs": [
    {
     "data": {
      "text/plain": [
       "<matplotlib.text.Text at 0x1a98246acf8>"
      ]
     },
     "execution_count": 20,
     "metadata": {},
     "output_type": "execute_result"
    },
    {
     "data": {
      "image/png": "[encoded data removed]",
      "text/plain": [
       "<matplotlib.figure.Figure at 0x1a981efdb70>"
      ]
     },
     "metadata": {},
     "output_type": "display_data"
    }
   ],
   "source": [
    "fig, (ax1, ax2) = plt.subplots(ncols=2, sharey=True)\n",
    "sns.regplot(x = young.Age, y = young.Expenditures, ax = ax1)\n",
    "ax1.figure.set_size_inches(14,6)\n",
    "ax1.axes.set_title('Expenditures against Age for Young', fontsize=16,color=\"b\",alpha=0.5)\n",
    "\n",
    "sns.regplot(x = old.Age, y = old.Expenditures, ax = ax2)\n",
    "ax2.figure.set_size_inches(14,6)\n",
    "ax2.axes.set_title('Expenditures against Age for Old', fontsize=16,color=\"b\",alpha=0.5)"
   ]
  },
  {
   "cell_type": "markdown",
   "metadata": {},
   "source": [
    "##### Key Observations\n",
    "\n",
    "1. Unlike the chart in Answer 1 the individual trends are quite the opposite. In Answer 1, the overal trend was decreasing. However for both the clusters, we can see an increasing trend with age. The reason for overall trend to be negative was because the expenditure for people under 40 is much more than the second cluster and hence with increasing age, the overall spend tends to come down.\n",
    "2. For people under 40, the expense incrase with age is steeper than the other cluster. They spending habits are more senstive to age. The second cluster is relatively stable as can be seen with the lower slope of the regression line."
   ]
  }
 ],
 "metadata": {
  "kernelspec": {
   "display_name": "Python 3",
   "language": "python",
   "name": "python3"
  },
  "language_info": {
   "codemirror_mode": {
    "name": "ipython",
    "version": 3
   },
   "file_extension": ".py",
   "mimetype": "text/x-python",
   "name": "python",
   "nbconvert_exporter": "python",
   "pygments_lexer": "ipython3",
   "version": "3.6.2"
  },
  "toc": {
   "colors": {
    "hover_highlight": "#DAA520",
    "navigate_num": "#000000",
    "navigate_text": "#333333",
    "running_highlight": "#FF0000",
    "selected_highlight": "#FFD700",
    "sidebar_border": "#EEEEEE",
    "wrapper_background": "#FFFFFF"
   },
   "moveMenuLeft": true,
   "nav_menu": {
    "height": "233px",
    "width": "252px"
   },
   "navigate_menu": true,
   "number_sections": true,
   "sideBar": true,
   "threshold": "6",
   "toc_cell": true,
   "toc_section_display": "block",
   "toc_window_display": false,
   "widenNotebook": false
  }
 },
 "nbformat": 4,
 "nbformat_minor": 2
}
