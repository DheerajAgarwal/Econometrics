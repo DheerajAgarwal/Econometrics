{
 "cells": [
  {
   "cell_type": "markdown",
   "metadata": {},
   "source": [
    "# Week 1: Simple Regression"
   ]
  },
  {
   "cell_type": "markdown",
   "metadata": {},
   "source": [
    "## Training Exercise 1.2"
   ]
  },
  {
   "cell_type": "markdown",
   "metadata": {},
   "source": [
    "### Questions:\n",
    "\n",
    "A transformation of the data on $x_i$ and $y_i$ (like taking their logarithm) changes the interpretation of the slope parameter $β$.  \n",
    "\n",
    "1. Show that in the regression model $log(y_i) = α + βlog(x_i) + ε_i$, the elasticity of $y$ with respect to $x$ is equal to $β$ (that is, does not depend on the values of $x_i$ and $y_i$).\n",
    "2. Determine the elasticity of $y$ with respect to $x$ in the model $y_i = α + βlog(x_i) + ε_i$.\n",
    "3. Determine the elasticity of $y$ with respect to $x$ in the model $log(y_i) = α + βx_i + ε_i$.\n",
    "\n",
    "$elasticity$   \n",
    "    $= \\frac{\\frac{\\delta y}{y}} {\\frac{\\delta x}{x}}$  \n",
    "    $\\quad$  \n",
    "    $=  {\\frac{\\delta y}{\\delta x}}.{\\frac{x}{y}}$\n",
    "\n",
    "_Note:_ $log$ here represents natural log and **not** logarithm to the base 10."
   ]
  },
  {
   "cell_type": "markdown",
   "metadata": {},
   "source": [
    "### 1"
   ]
  },
  {
   "cell_type": "markdown",
   "metadata": {},
   "source": [
    "$log(y) = α + βlog(x) + ε \\quad\\quad$   -- taking exponential on both sides  \n",
    "$exp(log(y))$  \n",
    "    $\\quad= exp(α + βlog(x) + ε)$  \n",
    "    $\\quad= exp(α + ε) \\quad X \\quad exp(βlog(x))$  \n",
    "    $\\quad= \\beta.exp(α + ε) \\quad X \\quad exp(log({x}^\\beta)$  \n",
    "    $\\quad= \\beta.exp(α + ε) \\quad X \\quad {x}^\\beta$  \n",
    "    $\\quad= y$\n",
    "    \n",
    "${\\frac{\\delta y}{\\delta x}}$\n",
    "\n",
    "\n",
    "\n",
    "\n",
    "\n",
    "\n"
   ]
  },
  {
   "cell_type": "code",
   "execution_count": null,
   "metadata": {
    "collapsed": true
   },
   "outputs": [],
   "source": []
  },
  {
   "cell_type": "code",
   "execution_count": null,
   "metadata": {
    "collapsed": true
   },
   "outputs": [],
   "source": []
  },
  {
   "cell_type": "code",
   "execution_count": null,
   "metadata": {
    "collapsed": true
   },
   "outputs": [],
   "source": []
  }
 ],
 "metadata": {
  "kernelspec": {
   "display_name": "Python 3",
   "language": "python",
   "name": "python3"
  },
  "language_info": {
   "codemirror_mode": {
    "name": "ipython",
    "version": 3
   },
   "file_extension": ".py",
   "mimetype": "text/x-python",
   "name": "python",
   "nbconvert_exporter": "python",
   "pygments_lexer": "ipython3",
   "version": "3.6.2"
  }
 },
 "nbformat": 4,
 "nbformat_minor": 2
}
